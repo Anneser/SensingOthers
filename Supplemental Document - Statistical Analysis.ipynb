{
 "cells": [
  {
   "cell_type": "markdown",
   "metadata": {},
   "source": [
    "# The Neuropeptide *pth2* Dynamically Senses Others via Mechanosensation\n",
    "Lukas Anneser$^{1}$, Ivan C. Alcantara$^{1,2}$, Anja Gemmer$^{1}$, Kristina Mirkes$^{1}$, Soojin Ryu$^{3}$, and Erin M. Schuman$^{1}$\n",
    "\n",
    "1: Max Planck Institute for Brain Research, Frankfurt, Germany\\\n",
    "2: current address: Brown University, Providence, USA\\\n",
    "3: Living Systems Institute & College of Medicine and Health, University of Exeter, Exeter, UK\n",
    "\n",
    "## Abstract\n",
    "Species that depend on membership in social groups for survival exhibit changes in neuronal gene expression and behavior when they face restricted social interactions or isolation. Here we show that, across its lifespan, social isolation specifically decreased the transcription of the vertebrate-specific neuropeptide *pth2* in zebrafish, Danio rerio. Just 30 minutes of exposure to conspecifics, however, was sufficient to initiate a significant rescue of *pth2* transcript levels in previously isolated zebrafish. *Pth2* transcription exhibited bi-directional dynamics: following the acute isolation of socially-reared fish, a rapid reduction in *pth2* levels was observed. Curiously, *pth2* expression tracked not just the presence of others, but also their density. The sensory modality that controls *pth2* expression was neither visual nor chemosensory in origin, but rather mechanical - induced by the movements of neighboring fish. Chemical ablation of the mechanosensitive neuromasts within the fish’s lateral line prevented the social-environment-induced rescue of *pth2* levels. In addition, mechanical perturbation of the water at frequencies similar to zebrafish tail movements was sufficient to rescue *pth2* levels in previously isolated fish. These data indicate a previously unappreciated role for a relatively unexplored neuropeptide, *pth2*, in both tracking and responding to the population density of an animal’s social environment. \n",
    "\n",
    "## Supplementary Code\n",
    "This notebook contains the $\\Delta C_{t}$ values from qPCR experiments and subsequent statistical analysis used in our above mentioned publication. All $\\Delta C_{t}$ values are additionally reported in our supplementary tables."
   ]
  },
  {
   "cell_type": "code",
   "execution_count": 168,
   "metadata": {},
   "outputs": [],
   "source": [
    "import numpy as np\n",
    "import pandas as pd\n",
    "from scipy.stats import ttest_rel, ttest_ind\n",
    "from statsmodels.stats.multitest import multipletests\n",
    "from statsmodels.formula.api import ols\n",
    "from statsmodels.stats.anova import anova_lm\n",
    "from scipy import stats\n",
    "from scipy.stats import shapiro"
   ]
  },
  {
   "cell_type": "markdown",
   "metadata": {},
   "source": [
    "# Fig. 1 - Transcriptional responses to social isolation\n",
    "$\\Delta$C$_{t}$ values as reported in supplementary table S2.\n",
    "## 1 c) Validation of NGS data by qPCR at different developmental stages"
   ]
  },
  {
   "cell_type": "code",
   "execution_count": 49,
   "metadata": {},
   "outputs": [
    {
     "name": "stdout",
     "output_type": "stream",
     "text": [
      "5 dpf: t = 12.94446281825876, p = 1.308198194152707e-05\n",
      "8 dpf: t = 5.419551280102047, p = 0.01232411256966652\n",
      "21 dpf: t = 28.856000714011255, p = 9.365934158349621e-07\n"
     ]
    }
   ],
   "source": [
    "val_dict = {'5 dpf': {'isolated': [5.491, 7.198, 3.960, 4.200, 5.292, 5.319, 4.565],\n",
    "              'social': [3.932, 4.461, 1.164, 1.516, 3.230, 2.847, 2.630]},\n",
    "    '8 dpf': {'isolated': [5.138, 6.305, 6.955, 6.689, np.nan, np.nan, np.nan],\n",
    "             'social': [3.830, 5.197, 6.444, 5.291, np.nan, np.nan, np.nan]},\n",
    "    '21 dpf': {'isolated': [4.383, 5.315, 5.601, 5.527, 4.784, 4.924, np.nan], \n",
    "              'social': [2.922, 3.733, 4.370, 4.000, 3.305, 3.385, np.nan]}}\n",
    "\n",
    "df = pd.DataFrame.from_dict({(i,j): val_dict[i][j] \n",
    "                           for i in val_dict.keys() \n",
    "                           for j in val_dict[i].keys()})\n",
    "\n",
    "[t, p] = ttest_rel(df['5 dpf']['isolated'], df['5 dpf']['social'])\n",
    "print('5 dpf: t = ' + str(t) + ', p = ' + str(p))\n",
    "\n",
    "[t, p] = ttest_rel(df['8 dpf']['isolated'].dropna(), df['8 dpf']['social'].dropna())\n",
    "print('8 dpf: t = ' + str(t) + ', p = ' + str(p))\n",
    "\n",
    "[t, p] = ttest_rel(df['21 dpf']['isolated'].dropna(), df['21 dpf']['social'].dropna())\n",
    "print('21 dpf: t = ' + str(t) + ', p = ' + str(p))"
   ]
  },
  {
   "cell_type": "markdown",
   "metadata": {},
   "source": [
    "## 1 d) Expression differences of members of the *pth* gene family in response to different social environments"
   ]
  },
  {
   "cell_type": "code",
   "execution_count": 2,
   "metadata": {},
   "outputs": [
    {
     "data": {
      "text/html": [
       "<div>\n",
       "<style scoped>\n",
       "    .dataframe tbody tr th:only-of-type {\n",
       "        vertical-align: middle;\n",
       "    }\n",
       "\n",
       "    .dataframe tbody tr th {\n",
       "        vertical-align: top;\n",
       "    }\n",
       "\n",
       "    .dataframe thead th {\n",
       "        text-align: right;\n",
       "    }\n",
       "</style>\n",
       "<table border=\"1\" class=\"dataframe\">\n",
       "  <thead>\n",
       "    <tr style=\"text-align: right;\">\n",
       "      <th></th>\n",
       "      <th>pth2 - isolated</th>\n",
       "      <th>pth2 - social</th>\n",
       "      <th>pth1a - isolated</th>\n",
       "      <th>pth1a - social</th>\n",
       "      <th>pth1b - isolated</th>\n",
       "      <th>pth1b - social</th>\n",
       "      <th>pthla - isolated</th>\n",
       "      <th>pthla - social</th>\n",
       "      <th>pthlb - isolated</th>\n",
       "      <th>pthlb - social</th>\n",
       "      <th>pth4 - isolated</th>\n",
       "      <th>pth4 - social</th>\n",
       "    </tr>\n",
       "  </thead>\n",
       "  <tbody>\n",
       "    <tr>\n",
       "      <th>0</th>\n",
       "      <td>4.916</td>\n",
       "      <td>2.990</td>\n",
       "      <td>4.107</td>\n",
       "      <td>4.877</td>\n",
       "      <td>-0.187</td>\n",
       "      <td>-0.092</td>\n",
       "      <td>4.859</td>\n",
       "      <td>5.328</td>\n",
       "      <td>8.514</td>\n",
       "      <td>10.337</td>\n",
       "      <td>4.892</td>\n",
       "      <td>5.484</td>\n",
       "    </tr>\n",
       "    <tr>\n",
       "      <th>1</th>\n",
       "      <td>5.201</td>\n",
       "      <td>2.820</td>\n",
       "      <td>4.519</td>\n",
       "      <td>5.046</td>\n",
       "      <td>-0.143</td>\n",
       "      <td>-0.296</td>\n",
       "      <td>4.011</td>\n",
       "      <td>4.516</td>\n",
       "      <td>8.067</td>\n",
       "      <td>8.210</td>\n",
       "      <td>4.082</td>\n",
       "      <td>4.328</td>\n",
       "    </tr>\n",
       "    <tr>\n",
       "      <th>2</th>\n",
       "      <td>5.522</td>\n",
       "      <td>2.666</td>\n",
       "      <td>4.336</td>\n",
       "      <td>4.854</td>\n",
       "      <td>-0.287</td>\n",
       "      <td>-0.241</td>\n",
       "      <td>5.141</td>\n",
       "      <td>4.623</td>\n",
       "      <td>8.542</td>\n",
       "      <td>8.310</td>\n",
       "      <td>4.644</td>\n",
       "      <td>3.802</td>\n",
       "    </tr>\n",
       "    <tr>\n",
       "      <th>3</th>\n",
       "      <td>4.418</td>\n",
       "      <td>3.706</td>\n",
       "      <td>4.011</td>\n",
       "      <td>4.929</td>\n",
       "      <td>1.146</td>\n",
       "      <td>0.915</td>\n",
       "      <td>4.041</td>\n",
       "      <td>4.944</td>\n",
       "      <td>7.680</td>\n",
       "      <td>8.246</td>\n",
       "      <td>3.761</td>\n",
       "      <td>4.069</td>\n",
       "    </tr>\n",
       "    <tr>\n",
       "      <th>4</th>\n",
       "      <td>5.311</td>\n",
       "      <td>3.723</td>\n",
       "      <td>2.352</td>\n",
       "      <td>3.544</td>\n",
       "      <td>2.291</td>\n",
       "      <td>1.929</td>\n",
       "      <td>4.971</td>\n",
       "      <td>4.787</td>\n",
       "      <td>10.390</td>\n",
       "      <td>9.640</td>\n",
       "      <td>5.194</td>\n",
       "      <td>5.151</td>\n",
       "    </tr>\n",
       "  </tbody>\n",
       "</table>\n",
       "</div>"
      ],
      "text/plain": [
       "   pth2 - isolated  pth2 - social  pth1a - isolated  pth1a - social  \\\n",
       "0            4.916          2.990             4.107           4.877   \n",
       "1            5.201          2.820             4.519           5.046   \n",
       "2            5.522          2.666             4.336           4.854   \n",
       "3            4.418          3.706             4.011           4.929   \n",
       "4            5.311          3.723             2.352           3.544   \n",
       "\n",
       "   pth1b - isolated  pth1b - social  pthla - isolated  pthla - social  \\\n",
       "0            -0.187          -0.092             4.859           5.328   \n",
       "1            -0.143          -0.296             4.011           4.516   \n",
       "2            -0.287          -0.241             5.141           4.623   \n",
       "3             1.146           0.915             4.041           4.944   \n",
       "4             2.291           1.929             4.971           4.787   \n",
       "\n",
       "   pthlb - isolated  pthlb - social  pth4 - isolated  pth4 - social  \n",
       "0             8.514          10.337            4.892          5.484  \n",
       "1             8.067           8.210            4.082          4.328  \n",
       "2             8.542           8.310            4.644          3.802  \n",
       "3             7.680           8.246            3.761          4.069  \n",
       "4            10.390           9.640            5.194          5.151  "
      ]
     },
     "execution_count": 2,
     "metadata": {},
     "output_type": "execute_result"
    }
   ],
   "source": [
    "d = {'pth2 - isolated': [4.916,5.201,5.522,4.418,5.311,5.034,4.299,4.158,4.587,5.220], \n",
    "     'pth2 - social': [2.990,2.820,2.666,3.706,3.723,3.073,2.776,2.193,3.126,3.664],\n",
    "    'pth1a - isolated': [4.107, 4.519, 4.336, 4.011, 2.352, 3.044, 3.789, 3.539, 4.733, 3.425],\n",
    "    'pth1a - social': [4.877, 5.046, 4.854, 4.929, 3.544, 3.593, 4.289, 4.741, 3.431, 4.276],\n",
    "    'pth1b - isolated': [-0.187, -0.143,-0.287, 1.146, 2.291,1.376, -0.089, -1.040, 0.494, 0.235],\n",
    "    'pth1b - social': [-0.092,-0.296,-0.241,0.915,1.929,0.974,-0.581,-1.051,0.404,0.576],\n",
    "    'pthla - isolated': [4.859,4.011,5.141,4.041,4.971,5.173,3.981,3.535,4.198,3.924],\n",
    "    'pthla - social': [5.328,4.516,4.623,4.944,4.787,3.782,3.949,4.186,4.125,4.750],\n",
    "    'pthlb - isolated': [8.514,8.067,8.542,7.680,10.390,8.702,7.936,7.869,8.173,8.308],\n",
    "    'pthlb - social': [10.337,8.210,8.310,8.246,9.640,8.542,7.378,8.113,8.682,8.838],\n",
    "    'pth4 - isolated': [4.892,4.082,4.644,3.761,5.194,5.129,4.172,3.591,4.519,4.379],\n",
    "    'pth4 - social': [5.484,4.328,3.802,4.069,5.151,3.815,3.328,3.369,4.384,5.456]}\n",
    "df = pd.DataFrame(data=d)\n",
    "df.head()"
   ]
  },
  {
   "cell_type": "code",
   "execution_count": 3,
   "metadata": {},
   "outputs": [
    {
     "name": "stdout",
     "output_type": "stream",
     "text": [
      "For pth2, t = 9.818336030819468 and p = 2.083631937614688e-06\n",
      "For pth1a, t = -2.54882884451511 and p = 0.015627371727670564\n",
      "For pth1b, t = 1.5567921077943054 and p = 0.07697269970754803\n",
      "For pthla, t = -0.5166201392269912 and p = 0.3089375633869814\n",
      "For pthlb, t = -0.9187342265317263 and p = 0.19109856270501852\n",
      "For pth4, t = 0.5126285172738125 and p = 0.3102773737945278\n"
     ]
    },
    {
     "data": {
      "text/plain": [
       "(array([ True, False, False, False, False, False]),\n",
       " array([2.50035833e-05, 9.37642304e-02, 3.07890799e-01, 6.20554748e-01,\n",
       "        5.73295688e-01, 6.20554748e-01]),\n",
       " 0.008512444610847103,\n",
       " 0.008333333333333333)"
      ]
     },
     "execution_count": 3,
     "metadata": {},
     "output_type": "execute_result"
    }
   ],
   "source": [
    "pvalues = []\n",
    "[t, p] = ttest_rel(df['pth2 - isolated'], df['pth2 - social'])\n",
    "print('For pth2, t = '+ str(t) + ' and p = ' + str(p/2))\n",
    "pvalues.append(p)\n",
    "[t, p] = ttest_rel(df['pth1a - isolated'], df['pth1a - social'])\n",
    "print('For pth1a, t = '+ str(t) + ' and p = ' + str(p/2))\n",
    "pvalues.append(p)\n",
    "[t, p] = ttest_rel(df['pth1b - isolated'], df['pth1b - social'])\n",
    "print('For pth1b, t = '+ str(t) + ' and p = ' + str(p/2))\n",
    "pvalues.append(p)\n",
    "[t, p] = ttest_rel(df['pthla - isolated'], df['pthla - social'])\n",
    "print('For pthla, t = '+ str(t) + ' and p = ' + str(p/2))\n",
    "pvalues.append(p)\n",
    "[t, p] = ttest_rel(df['pthlb - isolated'], df['pthlb - social'])\n",
    "print('For pthlb, t = '+ str(t) + ' and p = ' + str(p/2))\n",
    "pvalues.append(p)\n",
    "[t, p] = ttest_rel(df['pth4 - isolated'], df['pth4 - social'])\n",
    "print('For pth4, t = '+ str(t) + ' and p = ' + str(p/2))\n",
    "pvalues.append(p)\n",
    "\n",
    "multipletests(pvalues, alpha=0.05, method='fdr_bh', is_sorted=False, returnsorted=False)"
   ]
  },
  {
   "cell_type": "markdown",
   "metadata": {},
   "source": [
    "We used this dataset to additionally test for normality using the Shapiro-Wilk test. Normality was accordingly assumed later on."
   ]
  },
  {
   "cell_type": "code",
   "execution_count": 4,
   "metadata": {},
   "outputs": [
    {
     "name": "stdout",
     "output_type": "stream",
     "text": [
      "Statistics=0.936, p=0.509\n",
      "Statistics=0.926, p=0.409\n"
     ]
    }
   ],
   "source": [
    "# normality test\n",
    "stat, p = shapiro(df['pth2 - isolated'])\n",
    "print('Statistics=%.3f, p=%.3f' % (stat, p))\n",
    "\n",
    "stat, p = shapiro(df['pth2 - social'])\n",
    "print('Statistics=%.3f, p=%.3f' % (stat, p))"
   ]
  },
  {
   "cell_type": "markdown",
   "metadata": {},
   "source": [
    "# Fig. 2 - Transcriptional dynamics of *pth2*\n",
    "## 2 a) Time dynamics: Increase of *pth2* levels correlate with time of exposure to conspecifics"
   ]
  },
  {
   "cell_type": "code",
   "execution_count": 5,
   "metadata": {},
   "outputs": [
    {
     "data": {
      "text/html": [
       "<div>\n",
       "<style scoped>\n",
       "    .dataframe tbody tr th:only-of-type {\n",
       "        vertical-align: middle;\n",
       "    }\n",
       "\n",
       "    .dataframe tbody tr th {\n",
       "        vertical-align: top;\n",
       "    }\n",
       "\n",
       "    .dataframe thead th {\n",
       "        text-align: right;\n",
       "    }\n",
       "</style>\n",
       "<table border=\"1\" class=\"dataframe\">\n",
       "  <thead>\n",
       "    <tr style=\"text-align: right;\">\n",
       "      <th></th>\n",
       "      <th>isolated</th>\n",
       "      <th>30 min</th>\n",
       "      <th>60 min</th>\n",
       "      <th>180 min</th>\n",
       "      <th>12 hours</th>\n",
       "      <th>social</th>\n",
       "    </tr>\n",
       "  </thead>\n",
       "  <tbody>\n",
       "    <tr>\n",
       "      <th>0</th>\n",
       "      <td>6.103</td>\n",
       "      <td>5.636</td>\n",
       "      <td>5.637</td>\n",
       "      <td>2.922</td>\n",
       "      <td>4.140</td>\n",
       "      <td>4.500</td>\n",
       "    </tr>\n",
       "    <tr>\n",
       "      <th>1</th>\n",
       "      <td>5.369</td>\n",
       "      <td>4.858</td>\n",
       "      <td>4.997</td>\n",
       "      <td>3.517</td>\n",
       "      <td>3.287</td>\n",
       "      <td>3.336</td>\n",
       "    </tr>\n",
       "    <tr>\n",
       "      <th>2</th>\n",
       "      <td>5.428</td>\n",
       "      <td>5.322</td>\n",
       "      <td>3.957</td>\n",
       "      <td>3.619</td>\n",
       "      <td>3.104</td>\n",
       "      <td>3.103</td>\n",
       "    </tr>\n",
       "    <tr>\n",
       "      <th>3</th>\n",
       "      <td>4.213</td>\n",
       "      <td>3.889</td>\n",
       "      <td>4.148</td>\n",
       "      <td>3.263</td>\n",
       "      <td>2.511</td>\n",
       "      <td>2.320</td>\n",
       "    </tr>\n",
       "    <tr>\n",
       "      <th>4</th>\n",
       "      <td>4.649</td>\n",
       "      <td>4.119</td>\n",
       "      <td>4.006</td>\n",
       "      <td>5.019</td>\n",
       "      <td>2.735</td>\n",
       "      <td>2.793</td>\n",
       "    </tr>\n",
       "  </tbody>\n",
       "</table>\n",
       "</div>"
      ],
      "text/plain": [
       "   isolated  30 min  60 min  180 min  12 hours  social\n",
       "0     6.103   5.636   5.637    2.922     4.140   4.500\n",
       "1     5.369   4.858   4.997    3.517     3.287   3.336\n",
       "2     5.428   5.322   3.957    3.619     3.104   3.103\n",
       "3     4.213   3.889   4.148    3.263     2.511   2.320\n",
       "4     4.649   4.119   4.006    5.019     2.735   2.793"
      ]
     },
     "execution_count": 5,
     "metadata": {},
     "output_type": "execute_result"
    }
   ],
   "source": [
    "d = {'isolated': [6.103,5.369,5.428,4.213,4.649,5.294,4.485,7.203,4.690,5.071,6.337,4.297,4.777,4.984,5.292,5.319,4.565],\n",
    "     '30 min': [5.636, 4.858,5.322,3.889,4.119,4.369,5.259,5.667,4.652,4.157,4.475,4.580,4.716,4.610,4.599,np.nan, np.nan],\n",
    "     '60 min': [5.637,4.997,3.957,4.148,4.006,4.039,4.107,4.652,4.481,4.887, np.nan, np.nan, np.nan, np.nan, np.nan, np.nan, np.nan],\n",
    "     '180 min': [2.922,3.517,3.619,3.263,5.019,3.503,4.202,4.049,3.631,3.979,np.nan, np.nan, np.nan, np.nan, np.nan, np.nan, np.nan],\n",
    "     '12 hours': [4.140,3.287,3.104,2.511,2.735,2.622,2.938,2.653, np.nan, np.nan, np.nan, np.nan, np.nan, np.nan, np.nan, np.nan, np.nan],\n",
    "     'social': [4.500,3.336,3.103,2.320,2.793,2.720,2.055,4.513,2.857,3.014,2.036,2.253,3.148,2.648,3.230,2.847,2.630]\n",
    "}\n",
    "\n",
    "df = pd.DataFrame(data=d)\n",
    "df.head()"
   ]
  },
  {
   "cell_type": "code",
   "execution_count": 6,
   "metadata": {},
   "outputs": [
    {
     "name": "stdout",
     "output_type": "stream",
     "text": [
      "For 30 min, t = 1.8922402114296208 and p = 0.0340726057789864\n",
      "For 60 min, t = 2.45013516874614 and p = 0.010812224586491411\n",
      "For 180 min, t = 4.9546423012616 and p = 2.0956611347314803e-05\n",
      "For 12 hours, t = 7.134543928544459 and p = 1.4423897122561982e-07\n",
      "For social conditions, t = 8.783439730638207 and p = 2.4503498436730134e-10\n"
     ]
    },
    {
     "data": {
      "text/plain": [
       "(array([ True,  True,  True,  True,  True]),\n",
       " array([1.36290423e-02, 5.40611229e-03, 1.39710742e-05, 1.44238971e-07,\n",
       "        4.90069969e-10]),\n",
       " 0.010206218313011495,\n",
       " 0.01)"
      ]
     },
     "execution_count": 6,
     "metadata": {},
     "output_type": "execute_result"
    }
   ],
   "source": [
    "pvalues = []\n",
    "[t, p] = ttest_ind(df['isolated'].dropna(),df['30 min'].dropna())\n",
    "print('For 30 min, t = '+ str(t) + ' and p = ' + str(p/2))\n",
    "pvalues.append(p)\n",
    "\n",
    "[t, p] = ttest_ind(df['isolated'].dropna(),df['60 min'].dropna())\n",
    "print('For 60 min, t = '+ str(t) + ' and p = ' + str(p/2))\n",
    "pvalues.append(p)\n",
    "\n",
    "[t, p] = ttest_ind(df['isolated'].dropna(),df['180 min'].dropna())\n",
    "print('For 180 min, t = '+ str(t) + ' and p = ' + str(p/2))\n",
    "pvalues.append(p)\n",
    "\n",
    "[t, p] = ttest_ind(df['isolated'].dropna(),df['12 hours'].dropna())\n",
    "print('For 12 hours, t = '+ str(t) + ' and p = ' + str(p/2))\n",
    "pvalues.append(p)\n",
    "\n",
    "[t, p] = ttest_ind(df['isolated'].dropna(),df['social'].dropna())\n",
    "print('For social conditions, t = '+ str(t) + ' and p = ' + str(p/2))\n",
    "pvalues.append(p)\n",
    "\n",
    "multipletests(pvalues, alpha=0.05, method='fdr_tsbh', is_sorted=False, returnsorted=False)"
   ]
  },
  {
   "cell_type": "markdown",
   "metadata": {},
   "source": [
    "## 2 b) Decrease of *pth2* levels after short term social isolation"
   ]
  },
  {
   "cell_type": "code",
   "execution_count": 7,
   "metadata": {},
   "outputs": [
    {
     "data": {
      "text/html": [
       "<div>\n",
       "<style scoped>\n",
       "    .dataframe tbody tr th:only-of-type {\n",
       "        vertical-align: middle;\n",
       "    }\n",
       "\n",
       "    .dataframe tbody tr th {\n",
       "        vertical-align: top;\n",
       "    }\n",
       "\n",
       "    .dataframe thead th {\n",
       "        text-align: right;\n",
       "    }\n",
       "</style>\n",
       "<table border=\"1\" class=\"dataframe\">\n",
       "  <thead>\n",
       "    <tr style=\"text-align: right;\">\n",
       "      <th></th>\n",
       "      <th>isolated</th>\n",
       "      <th>3 hours</th>\n",
       "      <th>6 hours</th>\n",
       "      <th>social</th>\n",
       "    </tr>\n",
       "  </thead>\n",
       "  <tbody>\n",
       "    <tr>\n",
       "      <th>0</th>\n",
       "      <td>5.370</td>\n",
       "      <td>3.182</td>\n",
       "      <td>4.074</td>\n",
       "      <td>3.252</td>\n",
       "    </tr>\n",
       "    <tr>\n",
       "      <th>1</th>\n",
       "      <td>5.604</td>\n",
       "      <td>3.507</td>\n",
       "      <td>4.413</td>\n",
       "      <td>3.107</td>\n",
       "    </tr>\n",
       "    <tr>\n",
       "      <th>2</th>\n",
       "      <td>5.900</td>\n",
       "      <td>3.086</td>\n",
       "      <td>4.252</td>\n",
       "      <td>3.074</td>\n",
       "    </tr>\n",
       "    <tr>\n",
       "      <th>3</th>\n",
       "      <td>4.581</td>\n",
       "      <td>3.250</td>\n",
       "      <td>NaN</td>\n",
       "      <td>2.852</td>\n",
       "    </tr>\n",
       "    <tr>\n",
       "      <th>4</th>\n",
       "      <td>4.656</td>\n",
       "      <td>3.969</td>\n",
       "      <td>NaN</td>\n",
       "      <td>3.340</td>\n",
       "    </tr>\n",
       "  </tbody>\n",
       "</table>\n",
       "</div>"
      ],
      "text/plain": [
       "   isolated  3 hours  6 hours  social\n",
       "0     5.370    3.182    4.074   3.252\n",
       "1     5.604    3.507    4.413   3.107\n",
       "2     5.900    3.086    4.252   3.074\n",
       "3     4.581    3.250      NaN   2.852\n",
       "4     4.656    3.969      NaN   3.340"
      ]
     },
     "execution_count": 7,
     "metadata": {},
     "output_type": "execute_result"
    }
   ],
   "source": [
    "d = {'isolated': [5.370,5.604,5.900,4.581,4.656,5.780,4.083,4.869,3.719,4.497,5.167,4.468,4.857],\n",
    "    '3 hours': [3.182,3.507,3.086,3.250,3.969,3.511,2.799,2.447,2.233, np.nan, np.nan, np.nan, np.nan],\n",
    "    '6 hours': [4.074,4.413,4.252,np.nan, np.nan, np.nan, np.nan, np.nan,np.nan, np.nan, np.nan, np.nan, np.nan],\n",
    "    'social': [3.252,3.107,3.074,2.852,3.340,3.922,2.535,1.707,2.117,1.916,2.953,3.197, np.nan]}\n",
    "df = pd.DataFrame(data = d)\n",
    "df.head()"
   ]
  },
  {
   "cell_type": "code",
   "execution_count": 8,
   "metadata": {},
   "outputs": [
    {
     "name": "stdout",
     "output_type": "stream",
     "text": [
      "For 3 hours, t = -1.0401920159552156 and p = 0.15565361352597956\n",
      "For 6 hours, t = -3.659605880548592 and p = 0.0014419732748514522\n"
     ]
    },
    {
     "data": {
      "text/plain": [
       "(array([False,  True]),\n",
       " array([0.31130723, 0.00576789]),\n",
       " 0.025320565519103666,\n",
       " 0.025)"
      ]
     },
     "execution_count": 8,
     "metadata": {},
     "output_type": "execute_result"
    }
   ],
   "source": [
    "pvalues = []\n",
    "[t, p] = ttest_ind(df['social'].dropna(),df['3 hours'].dropna())\n",
    "print('For 3 hours, t = '+ str(t) + ' and p = ' + str(p/2))\n",
    "pvalues.append(p)\n",
    "\n",
    "[t, p] = ttest_ind(df['social'].dropna(),df['6 hours'].dropna())\n",
    "print('For 6 hours, t = '+ str(t) + ' and p = ' + str(p/2))\n",
    "pvalues.append(p)\n",
    "\n",
    "multipletests(pvalues, alpha=0.05, method='fdr_bh', is_sorted=False, returnsorted=False)"
   ]
  },
  {
   "cell_type": "markdown",
   "metadata": {},
   "source": [
    "## 2 c) *pth2* dynamics at the juvenile stage"
   ]
  },
  {
   "cell_type": "code",
   "execution_count": 9,
   "metadata": {},
   "outputs": [
    {
     "data": {
      "text/html": [
       "<div>\n",
       "<style scoped>\n",
       "    .dataframe tbody tr th:only-of-type {\n",
       "        vertical-align: middle;\n",
       "    }\n",
       "\n",
       "    .dataframe tbody tr th {\n",
       "        vertical-align: top;\n",
       "    }\n",
       "\n",
       "    .dataframe thead th {\n",
       "        text-align: right;\n",
       "    }\n",
       "</style>\n",
       "<table border=\"1\" class=\"dataframe\">\n",
       "  <thead>\n",
       "    <tr style=\"text-align: right;\">\n",
       "      <th></th>\n",
       "      <th>social</th>\n",
       "      <th>24 hours</th>\n",
       "      <th>isolated</th>\n",
       "    </tr>\n",
       "  </thead>\n",
       "  <tbody>\n",
       "    <tr>\n",
       "      <th>0</th>\n",
       "      <td>3.733</td>\n",
       "      <td>5.594</td>\n",
       "      <td>5.315</td>\n",
       "    </tr>\n",
       "    <tr>\n",
       "      <th>1</th>\n",
       "      <td>4.370</td>\n",
       "      <td>5.834</td>\n",
       "      <td>5.601</td>\n",
       "    </tr>\n",
       "    <tr>\n",
       "      <th>2</th>\n",
       "      <td>4.000</td>\n",
       "      <td>5.647</td>\n",
       "      <td>5.527</td>\n",
       "    </tr>\n",
       "    <tr>\n",
       "      <th>3</th>\n",
       "      <td>3.305</td>\n",
       "      <td>4.703</td>\n",
       "      <td>4.784</td>\n",
       "    </tr>\n",
       "    <tr>\n",
       "      <th>4</th>\n",
       "      <td>3.385</td>\n",
       "      <td>4.384</td>\n",
       "      <td>4.924</td>\n",
       "    </tr>\n",
       "  </tbody>\n",
       "</table>\n",
       "</div>"
      ],
      "text/plain": [
       "   social  24 hours  isolated\n",
       "0   3.733     5.594     5.315\n",
       "1   4.370     5.834     5.601\n",
       "2   4.000     5.647     5.527\n",
       "3   3.305     4.703     4.784\n",
       "4   3.385     4.384     4.924"
      ]
     },
     "execution_count": 9,
     "metadata": {},
     "output_type": "execute_result"
    }
   ],
   "source": [
    "d = {'social': [3.733,4.370,4.000,3.305,3.385],\n",
    "    '24 hours': [5.594, 5.834,5.647,4.703,4.384],\n",
    "    'isolated': [5.315,5.601,5.527,4.784,4.924]}\n",
    "\n",
    "df = pd.DataFrame(data=d)\n",
    "df.head()"
   ]
  },
  {
   "cell_type": "code",
   "execution_count": 10,
   "metadata": {},
   "outputs": [
    {
     "name": "stdout",
     "output_type": "stream",
     "text": [
      "For social conditions, t = -23.603345885760536 and p = 9.550978099311588e-06\n",
      "For 24 hours isolation, t = -0.014754358310279174 and p = 0.4944673665483954\n"
     ]
    },
    {
     "data": {
      "text/plain": [
       "(array([ True, False]),\n",
       " array([3.82039124e-05, 9.88934733e-01]),\n",
       " 0.025320565519103666,\n",
       " 0.025)"
      ]
     },
     "execution_count": 10,
     "metadata": {},
     "output_type": "execute_result"
    }
   ],
   "source": [
    "pvalues = []\n",
    "[t, p] = ttest_rel(df['social'].dropna(),df['isolated'].dropna())\n",
    "print('For social conditions, t = '+ str(t) + ' and p = ' + str(p/2))\n",
    "pvalues.append(p)\n",
    "\n",
    "[t, p] = ttest_rel(df['isolated'].dropna(),df['24 hours'].dropna())\n",
    "print('For 24 hours isolation, t = '+ str(t) + ' and p = ' + str(p/2))\n",
    "pvalues.append(p)\n",
    "\n",
    "multipletests(pvalues, alpha=0.05, method='fdr_bh', is_sorted=False, returnsorted=False)"
   ]
  },
  {
   "cell_type": "markdown",
   "metadata": {},
   "source": [
    "## 2 d) *pth2* dynamics in adult zebrafish\n"
   ]
  },
  {
   "cell_type": "code",
   "execution_count": 11,
   "metadata": {},
   "outputs": [
    {
     "data": {
      "text/html": [
       "<div>\n",
       "<style scoped>\n",
       "    .dataframe tbody tr th:only-of-type {\n",
       "        vertical-align: middle;\n",
       "    }\n",
       "\n",
       "    .dataframe tbody tr th {\n",
       "        vertical-align: top;\n",
       "    }\n",
       "\n",
       "    .dataframe thead th {\n",
       "        text-align: right;\n",
       "    }\n",
       "</style>\n",
       "<table border=\"1\" class=\"dataframe\">\n",
       "  <thead>\n",
       "    <tr style=\"text-align: right;\">\n",
       "      <th></th>\n",
       "      <th>isolated</th>\n",
       "      <th>social</th>\n",
       "      <th>short social</th>\n",
       "      <th>short iso</th>\n",
       "    </tr>\n",
       "  </thead>\n",
       "  <tbody>\n",
       "    <tr>\n",
       "      <th>0</th>\n",
       "      <td>2.474</td>\n",
       "      <td>0.727</td>\n",
       "      <td>0.363</td>\n",
       "      <td>3.489</td>\n",
       "    </tr>\n",
       "    <tr>\n",
       "      <th>1</th>\n",
       "      <td>1.713</td>\n",
       "      <td>0.302</td>\n",
       "      <td>0.854</td>\n",
       "      <td>3.591</td>\n",
       "    </tr>\n",
       "    <tr>\n",
       "      <th>2</th>\n",
       "      <td>1.999</td>\n",
       "      <td>0.816</td>\n",
       "      <td>0.985</td>\n",
       "      <td>3.192</td>\n",
       "    </tr>\n",
       "    <tr>\n",
       "      <th>3</th>\n",
       "      <td>NaN</td>\n",
       "      <td>0.932</td>\n",
       "      <td>0.540</td>\n",
       "      <td>3.426</td>\n",
       "    </tr>\n",
       "  </tbody>\n",
       "</table>\n",
       "</div>"
      ],
      "text/plain": [
       "   isolated  social  short social  short iso\n",
       "0     2.474   0.727         0.363      3.489\n",
       "1     1.713   0.302         0.854      3.591\n",
       "2     1.999   0.816         0.985      3.192\n",
       "3       NaN   0.932         0.540      3.426"
      ]
     },
     "execution_count": 11,
     "metadata": {},
     "output_type": "execute_result"
    }
   ],
   "source": [
    "d = {'isolated': [2.474,1.713,1.999, np.nan],\n",
    "    'social': [0.727,0.302,0.816,0.932],\n",
    "    'short social': [0.363,0.854,0.985,0.540],\n",
    "    'short iso': [3.489,3.591,3.192,3.426]}\n",
    "\n",
    "df = pd.DataFrame(data=d)\n",
    "df.head()"
   ]
  },
  {
   "cell_type": "code",
   "execution_count": 12,
   "metadata": {},
   "outputs": [
    {
     "name": "stdout",
     "output_type": "stream",
     "text": [
      "comparing short social and isolated, t = -5.490297510789816 and p = 0.0013681014836495308\n",
      "comparing short social and social, t = -0.04423416862896142 and p = 0.48307657234585033\n",
      "comparing short isolation and social, t = 16.926277706574503 and p = 1.3591597835397753e-06\n",
      "comparding short isolation and isolated, t = 6.458645684578994 and p = 0.0006622502007027491\n"
     ]
    },
    {
     "data": {
      "text/plain": [
       "(array([ True, False,  True,  True]),\n",
       " array([1.82413531e-03, 4.83076572e-01, 5.43663913e-06, 1.32450040e-03]),\n",
       " 0.012741455098566168,\n",
       " 0.0125)"
      ]
     },
     "execution_count": 12,
     "metadata": {},
     "output_type": "execute_result"
    }
   ],
   "source": [
    "pvalues = []\n",
    "\n",
    "[t, p] = ttest_ind(df['short social'].dropna(),df['isolated'].dropna())\n",
    "print('comparing short social and isolated, t = '+ str(t) + ' and p = ' + str(p/2))\n",
    "pvalues.append(p/2)\n",
    "\n",
    "[t, p] = ttest_ind(df['short social'].dropna(),df['social'].dropna())\n",
    "print('comparing short social and social, t = '+ str(t) + ' and p = ' + str(p/2))\n",
    "pvalues.append(p/2)\n",
    "\n",
    "[t, p] = ttest_ind(df['short iso'].dropna(),df['social'].dropna())\n",
    "print('comparing short isolation and social, t = '+ str(t) + ' and p = ' + str(p/2))\n",
    "pvalues.append(p/2)\n",
    "\n",
    "[t, p] = ttest_ind(df['short iso'].dropna(),df['isolated'].dropna())\n",
    "print('comparding short isolation and isolated, t = '+ str(t) + ' and p = ' + str(p/2))\n",
    "pvalues.append(p/2)\n",
    "\n",
    "multipletests(pvalues, alpha=0.05, method='fdr_bh', is_sorted=False, returnsorted=False)"
   ]
  },
  {
   "cell_type": "markdown",
   "metadata": {},
   "source": [
    "# Fig. 3 - Sensory perception of conspecifics\n",
    "## 3 b) chemosensory rescue attempt"
   ]
  },
  {
   "cell_type": "code",
   "execution_count": 13,
   "metadata": {},
   "outputs": [
    {
     "data": {
      "text/html": [
       "<div>\n",
       "<style scoped>\n",
       "    .dataframe tbody tr th:only-of-type {\n",
       "        vertical-align: middle;\n",
       "    }\n",
       "\n",
       "    .dataframe tbody tr th {\n",
       "        vertical-align: top;\n",
       "    }\n",
       "\n",
       "    .dataframe thead th {\n",
       "        text-align: right;\n",
       "    }\n",
       "</style>\n",
       "<table border=\"1\" class=\"dataframe\">\n",
       "  <thead>\n",
       "    <tr style=\"text-align: right;\">\n",
       "      <th></th>\n",
       "      <th>isolated</th>\n",
       "      <th>medium swap</th>\n",
       "      <th>social</th>\n",
       "    </tr>\n",
       "  </thead>\n",
       "  <tbody>\n",
       "    <tr>\n",
       "      <th>0</th>\n",
       "      <td>5.862</td>\n",
       "      <td>5.522</td>\n",
       "      <td>3.284</td>\n",
       "    </tr>\n",
       "    <tr>\n",
       "      <th>1</th>\n",
       "      <td>5.877</td>\n",
       "      <td>6.056</td>\n",
       "      <td>3.414</td>\n",
       "    </tr>\n",
       "    <tr>\n",
       "      <th>2</th>\n",
       "      <td>5.645</td>\n",
       "      <td>5.910</td>\n",
       "      <td>2.703</td>\n",
       "    </tr>\n",
       "  </tbody>\n",
       "</table>\n",
       "</div>"
      ],
      "text/plain": [
       "   isolated  medium swap  social\n",
       "0     5.862        5.522   3.284\n",
       "1     5.877        6.056   3.414\n",
       "2     5.645        5.910   2.703"
      ]
     },
     "execution_count": 13,
     "metadata": {},
     "output_type": "execute_result"
    }
   ],
   "source": [
    "d = {'isolated': [5.862,5.877,5.645],\n",
    "    'medium swap': [5.522,6.056,5.910],\n",
    "    'social': [3.284, 3.414, 2.703]} \n",
    "\n",
    "df = pd.DataFrame(data=d)\n",
    "df.head()"
   ]
  },
  {
   "cell_type": "code",
   "execution_count": 14,
   "metadata": {},
   "outputs": [
    {
     "name": "stdout",
     "output_type": "stream",
     "text": [
      "comparing social and isolated, t = -18.431967920580387 and p = 0.0014652585395614993\n",
      "comparing isolated and chemosensory rescue, t = 0.18344947948338597 and p = 0.4356797111112813\n"
     ]
    },
    {
     "data": {
      "text/plain": [
       "(array([ True, False]),\n",
       " array([0.00586103, 0.87135942]),\n",
       " 0.025320565519103666,\n",
       " 0.025)"
      ]
     },
     "execution_count": 14,
     "metadata": {},
     "output_type": "execute_result"
    }
   ],
   "source": [
    "pvalues = []\n",
    "[t, p] = ttest_rel(df['social'].dropna(),df['isolated'].dropna())\n",
    "print('comparing social and isolated, t = '+ str(t) + ' and p = ' + str(p/2))\n",
    "pvalues.append(p)\n",
    "\n",
    "[t, p] = ttest_rel(df['medium swap'].dropna(),df['isolated'].dropna())\n",
    "print('comparing isolated and chemosensory rescue, t = '+ str(t) + ' and p = ' + str(p/2))\n",
    "pvalues.append(p)\n",
    "\n",
    "multipletests(pvalues, alpha=0.05, method='fdr_bh', is_sorted=False, returnsorted=False)"
   ]
  },
  {
   "cell_type": "markdown",
   "metadata": {},
   "source": [
    "## 3 d) Visual Rescue Attempt"
   ]
  },
  {
   "cell_type": "code",
   "execution_count": 16,
   "metadata": {},
   "outputs": [],
   "source": [
    "d = {'age': [5, 5, 5, 5, 5, 5, 5, 5, 5, 5, 5, 5, 5, 5, 5, 5, 5, 5, 5, 5,\n",
    "            21, 21, 21, 21, 21, 21, 21, 21, 21, 21, 21, 21, 21, 21, 21, 21, 21, 21, 21, 21, 21, 21, 21, 21],\n",
    "    'visual': [0,0,0,0,0,1,1,1,1,1,0,0,0,0,0,1,1,1,1,1,\n",
    "              0,0,0,0,0,0,1,1,1,1,1,1,0,0,0,0,0,0,1,1,1,1,1,1],\n",
    "    'physical': [0,0,0,0,0,0,0,0,0,0,1,1,1,1,1,1,1,1,1,1,\n",
    "                0,0,0,0,0,0,0,0,0,0,0,0,1,1,1,1,1,1,1,1,1,1,1,1],\n",
    "    'value': [5.531,6.070,5.900,6.244,6.190,\n",
    "              4.932,5.204,5.539,6.016,4.981,\n",
    "              3.786,4.548,4.098,4.077,4.993,\n",
    "              3.802,4.790,3.887,4.371,4.576,\n",
    "              5.655,5.718,6.042,5.552,5.661,5.583,\n",
    "              5.541,6.621,5.727,5.095,5.031,5.454,\n",
    "              4.702,4.778,4.762,4.498,4.296,4.998,\n",
    "              5.114,4.937,5.330,4.060,4.915,4.448]}\n",
    "\n",
    "df = pd.DataFrame(data = d)"
   ]
  },
  {
   "cell_type": "code",
   "execution_count": 39,
   "metadata": {},
   "outputs": [
    {
     "name": "stdout",
     "output_type": "stream",
     "text": [
      "5 dpf - ANOVA results\n",
      "                   sum_sq    df          F    PR(>F)\n",
      "visual           0.557446   1.0   3.213884  0.091941\n",
      "physical         9.355752   1.0  53.939397  0.000002\n",
      "visual:physical  0.507848   1.0   2.927936  0.106372\n",
      "Residual         2.775189  16.0        NaN       NaN\n",
      "21 dpf - ANOVA results\n",
      "                   sum_sq    df          F    PR(>F)\n",
      "visual           0.000033   1.0   0.000204  0.988736\n",
      "physical         4.897873   1.0  30.641831  0.000020\n",
      "visual:physical  0.095256   1.0   0.595936  0.449159\n",
      "Residual         3.196854  20.0        NaN       NaN\n"
     ]
    }
   ],
   "source": [
    "# 5 dpf\n",
    "df5dpf = df[df['age']==5]\n",
    "\n",
    "formula = 'value ~ visual + physical + visual:physical'\n",
    "model = ols(formula, df5dpf).fit()\n",
    "aov_table = anova_lm(model, typ=2)\n",
    "print('5 dpf - ANOVA results')\n",
    "print(aov_table.round(6))\n",
    "\n",
    "# 21 dpf\n",
    "df21dpf = df[df['age']==21]\n",
    "\n",
    "formula = 'value ~ visual + physical + visual:physical'\n",
    "model = ols(formula, df21dpf).fit()\n",
    "aov_table = anova_lm(model, typ=2)\n",
    "print('21 dpf - ANOVA results')\n",
    "print(aov_table.round(6))\n"
   ]
  },
  {
   "cell_type": "markdown",
   "metadata": {},
   "source": [
    "Since there is apparently no interaction effect, no post-hoc tests need to be performed. \n",
    "\n",
    "## 3 e) Comparison of *pth2* levels after social rescue under light and in darkness."
   ]
  },
  {
   "cell_type": "code",
   "execution_count": 17,
   "metadata": {},
   "outputs": [
    {
     "data": {
      "text/html": [
       "<div>\n",
       "<style scoped>\n",
       "    .dataframe tbody tr th:only-of-type {\n",
       "        vertical-align: middle;\n",
       "    }\n",
       "\n",
       "    .dataframe tbody tr th {\n",
       "        vertical-align: top;\n",
       "    }\n",
       "\n",
       "    .dataframe thead th {\n",
       "        text-align: right;\n",
       "    }\n",
       "</style>\n",
       "<table border=\"1\" class=\"dataframe\">\n",
       "  <thead>\n",
       "    <tr style=\"text-align: right;\">\n",
       "      <th></th>\n",
       "      <th>isolated</th>\n",
       "      <th>light</th>\n",
       "      <th>dark</th>\n",
       "    </tr>\n",
       "  </thead>\n",
       "  <tbody>\n",
       "    <tr>\n",
       "      <th>0</th>\n",
       "      <td>5.336</td>\n",
       "      <td>3.402</td>\n",
       "      <td>4.261</td>\n",
       "    </tr>\n",
       "    <tr>\n",
       "      <th>1</th>\n",
       "      <td>5.718</td>\n",
       "      <td>4.056</td>\n",
       "      <td>5.221</td>\n",
       "    </tr>\n",
       "    <tr>\n",
       "      <th>2</th>\n",
       "      <td>5.740</td>\n",
       "      <td>4.867</td>\n",
       "      <td>4.624</td>\n",
       "    </tr>\n",
       "    <tr>\n",
       "      <th>3</th>\n",
       "      <td>6.304</td>\n",
       "      <td>4.710</td>\n",
       "      <td>4.879</td>\n",
       "    </tr>\n",
       "    <tr>\n",
       "      <th>4</th>\n",
       "      <td>6.211</td>\n",
       "      <td>4.897</td>\n",
       "      <td>4.655</td>\n",
       "    </tr>\n",
       "  </tbody>\n",
       "</table>\n",
       "</div>"
      ],
      "text/plain": [
       "   isolated  light   dark\n",
       "0     5.336  3.402  4.261\n",
       "1     5.718  4.056  5.221\n",
       "2     5.740  4.867  4.624\n",
       "3     6.304  4.710  4.879\n",
       "4     6.211  4.897  4.655"
      ]
     },
     "execution_count": 17,
     "metadata": {},
     "output_type": "execute_result"
    }
   ],
   "source": [
    "d = {'isolated':[5.336,5.718,5.740,6.304,6.211,5.929],\n",
    "    'light':[3.402,4.056,4.867,4.710,4.897,4.276],\n",
    "    'dark':[4.261,5.221,4.624,4.879,4.655,4.567]}\n",
    "\n",
    "df = pd.DataFrame(data=d)\n",
    "df.head()"
   ]
  },
  {
   "cell_type": "code",
   "execution_count": 18,
   "metadata": {},
   "outputs": [
    {
     "name": "stdout",
     "output_type": "stream",
     "text": [
      "comparing isolated and social (light), t = 10.037646730561294 and p = 8.39471166533326e-05\n",
      "comparing isolated and social (dark), t = 7.58665609686374 and p = 0.0003157879102815708\n",
      "comparing social (light) and social (dark), t = -1.4163586870605946 and p = 0.10792224230982565\n"
     ]
    },
    {
     "data": {
      "text/plain": [
       "(array([ True,  True, False]),\n",
       " array([0.00050368, 0.00094736, 0.21584448]),\n",
       " 0.016952427508441503,\n",
       " 0.016666666666666666)"
      ]
     },
     "execution_count": 18,
     "metadata": {},
     "output_type": "execute_result"
    }
   ],
   "source": [
    "pvalues = []\n",
    "\n",
    "[t, p] = ttest_rel(df['isolated'].dropna(),df['light'].dropna())\n",
    "print('comparing isolated and social (light), t = '+ str(t) + ' and p = ' + str(p/2))\n",
    "pvalues.append(p)\n",
    "\n",
    "[t, p] = ttest_rel(df['isolated'].dropna(),df['dark'].dropna())\n",
    "print('comparing isolated and social (dark), t = '+ str(t) + ' and p = ' + str(p/2))\n",
    "pvalues.append(p)\n",
    "\n",
    "[t, p] = ttest_rel(df['light'].dropna(),df['dark'].dropna())\n",
    "print('comparing social (light) and social (dark), t = '+ str(t) + ' and p = ' + str(p/2))\n",
    "pvalues.append(p)\n",
    "\n",
    "multipletests(pvalues, alpha=0.05, method='fdr_bh', is_sorted=False, returnsorted=False)"
   ]
  },
  {
   "cell_type": "markdown",
   "metadata": {},
   "source": [
    "# Fig. 4 - Specific mechanosensation triggers transcription of *pth2*\n",
    "## 4 b) Impact of lateral line ablation on *pth2* levels"
   ]
  },
  {
   "cell_type": "code",
   "execution_count": 19,
   "metadata": {},
   "outputs": [
    {
     "data": {
      "text/html": [
       "<div>\n",
       "<style scoped>\n",
       "    .dataframe tbody tr th:only-of-type {\n",
       "        vertical-align: middle;\n",
       "    }\n",
       "\n",
       "    .dataframe tbody tr th {\n",
       "        vertical-align: top;\n",
       "    }\n",
       "\n",
       "    .dataframe thead th {\n",
       "        text-align: right;\n",
       "    }\n",
       "</style>\n",
       "<table border=\"1\" class=\"dataframe\">\n",
       "  <thead>\n",
       "    <tr style=\"text-align: right;\">\n",
       "      <th></th>\n",
       "      <th>E3_iso</th>\n",
       "      <th>E3_soc</th>\n",
       "      <th>CuSO4_iso</th>\n",
       "      <th>CuSO4_soc</th>\n",
       "      <th>Neo_iso</th>\n",
       "      <th>Neo_soc</th>\n",
       "    </tr>\n",
       "  </thead>\n",
       "  <tbody>\n",
       "    <tr>\n",
       "      <th>0</th>\n",
       "      <td>8.132</td>\n",
       "      <td>5.769</td>\n",
       "      <td>6.472</td>\n",
       "      <td>6.859</td>\n",
       "      <td>4.878</td>\n",
       "      <td>4.545</td>\n",
       "    </tr>\n",
       "    <tr>\n",
       "      <th>1</th>\n",
       "      <td>7.327</td>\n",
       "      <td>5.128</td>\n",
       "      <td>6.925</td>\n",
       "      <td>6.784</td>\n",
       "      <td>5.018</td>\n",
       "      <td>5.229</td>\n",
       "    </tr>\n",
       "    <tr>\n",
       "      <th>2</th>\n",
       "      <td>6.928</td>\n",
       "      <td>4.251</td>\n",
       "      <td>5.194</td>\n",
       "      <td>4.323</td>\n",
       "      <td>4.808</td>\n",
       "      <td>4.620</td>\n",
       "    </tr>\n",
       "    <tr>\n",
       "      <th>3</th>\n",
       "      <td>3.923</td>\n",
       "      <td>3.243</td>\n",
       "      <td>4.593</td>\n",
       "      <td>4.439</td>\n",
       "      <td>5.203</td>\n",
       "      <td>4.365</td>\n",
       "    </tr>\n",
       "    <tr>\n",
       "      <th>4</th>\n",
       "      <td>5.438</td>\n",
       "      <td>3.635</td>\n",
       "      <td>6.217</td>\n",
       "      <td>5.093</td>\n",
       "      <td>4.678</td>\n",
       "      <td>4.640</td>\n",
       "    </tr>\n",
       "  </tbody>\n",
       "</table>\n",
       "</div>"
      ],
      "text/plain": [
       "   E3_iso  E3_soc  CuSO4_iso  CuSO4_soc  Neo_iso  Neo_soc\n",
       "0   8.132   5.769      6.472      6.859    4.878    4.545\n",
       "1   7.327   5.128      6.925      6.784    5.018    5.229\n",
       "2   6.928   4.251      5.194      4.323    4.808    4.620\n",
       "3   3.923   3.243      4.593      4.439    5.203    4.365\n",
       "4   5.438   3.635      6.217      5.093    4.678    4.640"
      ]
     },
     "execution_count": 19,
     "metadata": {},
     "output_type": "execute_result"
    }
   ],
   "source": [
    "d = {'E3_iso': [8.132,7.327,6.928,3.923,5.438,4.720,4.787,4.837,5.123],\n",
    "    'E3_soc': [5.769,5.128,4.251,3.243,3.635,3.861,3.525,3.979,3.538],\n",
    "    'CuSO4_iso': [6.472,6.925,5.194,4.593,6.217, np.nan, np.nan, np.nan, np.nan],\n",
    "    'CuSO4_soc': [6.859,6.784,4.323,4.439,5.093, np.nan, np.nan, np.nan, np.nan],\n",
    "    'Neo_iso': [4.878,5.018,4.808,5.203,4.678, np.nan, np.nan, np.nan, np.nan],\n",
    "    'Neo_soc': [4.545,5.229,4.620,4.365,4.640, np.nan, np.nan, np.nan, np.nan]}\n",
    "\n",
    "df = pd.DataFrame(data=d)\n",
    "df.head()"
   ]
  },
  {
   "cell_type": "code",
   "execution_count": 20,
   "metadata": {},
   "outputs": [
    {
     "name": "stdout",
     "output_type": "stream",
     "text": [
      "For untreated animals, t = 6.571262910391263 p = 0.00017454549429944867\n",
      "For CuSO4-treated animals, t = 1.3938955189093376 p = 0.23579614130931398\n",
      "For Neomycin-treated animals, t = 1.354739985557677 p = 0.24696415796455468\n"
     ]
    },
    {
     "data": {
      "text/plain": [
       "(array([ True, False, False]),\n",
       " array([0.00052364, 0.24696416, 0.24696416]),\n",
       " 0.016952427508441503,\n",
       " 0.016666666666666666)"
      ]
     },
     "execution_count": 20,
     "metadata": {},
     "output_type": "execute_result"
    }
   ],
   "source": [
    "pvalues = []\n",
    "\n",
    "[t, p] = ttest_rel(df['E3_iso'].dropna(), df['E3_soc'].dropna())\n",
    "pvalues.append(p)\n",
    "print('For untreated animals, t = ' + str(t) + ' p = ' + str(p))\n",
    "\n",
    "[t, p] = ttest_rel(df['CuSO4_iso'].dropna(), df['CuSO4_soc'].dropna())\n",
    "pvalues.append(p)\n",
    "print('For CuSO4-treated animals, t = ' + str(t) + ' p = ' + str(p))\n",
    "\n",
    "[t, p] = ttest_rel(df['Neo_iso'].dropna(), df['Neo_soc'].dropna())\n",
    "pvalues.append(p)\n",
    "print('For Neomycin-treated animals, t = ' + str(t) + ' p = ' + str(p))\n",
    "\n",
    "multipletests(pvalues, alpha=0.05, method='fdr_bh', is_sorted=False, returnsorted=False)"
   ]
  },
  {
   "cell_type": "markdown",
   "metadata": {},
   "source": [
    "## 4 c) Impact of other species' movement: presence of artemia"
   ]
  },
  {
   "cell_type": "code",
   "execution_count": 21,
   "metadata": {},
   "outputs": [
    {
     "data": {
      "text/html": [
       "<div>\n",
       "<style scoped>\n",
       "    .dataframe tbody tr th:only-of-type {\n",
       "        vertical-align: middle;\n",
       "    }\n",
       "\n",
       "    .dataframe tbody tr th {\n",
       "        vertical-align: top;\n",
       "    }\n",
       "\n",
       "    .dataframe thead th {\n",
       "        text-align: right;\n",
       "    }\n",
       "</style>\n",
       "<table border=\"1\" class=\"dataframe\">\n",
       "  <thead>\n",
       "    <tr style=\"text-align: right;\">\n",
       "      <th></th>\n",
       "      <th>isolated</th>\n",
       "      <th>artemia14</th>\n",
       "      <th>artemia1000</th>\n",
       "      <th>social</th>\n",
       "    </tr>\n",
       "  </thead>\n",
       "  <tbody>\n",
       "    <tr>\n",
       "      <th>0</th>\n",
       "      <td>5.569</td>\n",
       "      <td>4.776</td>\n",
       "      <td>NaN</td>\n",
       "      <td>NaN</td>\n",
       "    </tr>\n",
       "    <tr>\n",
       "      <th>1</th>\n",
       "      <td>5.559</td>\n",
       "      <td>5.610</td>\n",
       "      <td>NaN</td>\n",
       "      <td>NaN</td>\n",
       "    </tr>\n",
       "    <tr>\n",
       "      <th>2</th>\n",
       "      <td>5.426</td>\n",
       "      <td>5.306</td>\n",
       "      <td>NaN</td>\n",
       "      <td>NaN</td>\n",
       "    </tr>\n",
       "    <tr>\n",
       "      <th>3</th>\n",
       "      <td>6.269</td>\n",
       "      <td>NaN</td>\n",
       "      <td>6.132</td>\n",
       "      <td>3.919</td>\n",
       "    </tr>\n",
       "    <tr>\n",
       "      <th>4</th>\n",
       "      <td>6.556</td>\n",
       "      <td>NaN</td>\n",
       "      <td>6.543</td>\n",
       "      <td>4.667</td>\n",
       "    </tr>\n",
       "  </tbody>\n",
       "</table>\n",
       "</div>"
      ],
      "text/plain": [
       "   isolated  artemia14  artemia1000  social\n",
       "0     5.569      4.776          NaN     NaN\n",
       "1     5.559      5.610          NaN     NaN\n",
       "2     5.426      5.306          NaN     NaN\n",
       "3     6.269        NaN        6.132   3.919\n",
       "4     6.556        NaN        6.543   4.667"
      ]
     },
     "execution_count": 21,
     "metadata": {},
     "output_type": "execute_result"
    }
   ],
   "source": [
    "d = {'isolated': [5.569,5.559,5.426,6.269,6.556,6.335],\n",
    "    'artemia14': [4.776,5.610,5.306, np.nan, np.nan, np.nan],\n",
    "    'artemia1000': [np.nan, np.nan, np.nan,6.132, 6.543, 7.352],\n",
    "    'social': [np.nan, np.nan, np.nan, 3.919, 4.667, 4.308]}\n",
    "\n",
    "df = pd.DataFrame(data=d)\n",
    "df.head()"
   ]
  },
  {
   "cell_type": "code",
   "execution_count": 22,
   "metadata": {},
   "outputs": [
    {
     "name": "stdout",
     "output_type": "stream",
     "text": [
      "Addition of 14 artemia results in t = 1.1153934655503712 and p = 0.38072890915484936\n",
      "Addition of 1000 artemia results in t = -0.7901445982484151 and p = 0.5122497752889774\n",
      "Addition of 14 zebrafish results in t = 15.289886630578483 and p = 0.00425026281297711\n"
     ]
    },
    {
     "data": {
      "text/plain": [
       "(array([False, False,  True]),\n",
       " array([0.51224978, 0.51224978, 0.01275079]),\n",
       " 0.016952427508441503,\n",
       " 0.016666666666666666)"
      ]
     },
     "execution_count": 22,
     "metadata": {},
     "output_type": "execute_result"
    }
   ],
   "source": [
    "pvalues = []\n",
    "\n",
    "[t, p] = ttest_rel(df['isolated'].iloc[0:3], df['artemia14'].iloc[0:3])\n",
    "pvalues.append(p)\n",
    "print('Addition of 14 artemia results in t = ' + str(t) + ' and p = ' + str(p))\n",
    "\n",
    "[t, p] = ttest_rel(df['isolated'].iloc[3:7], df['artemia1000'].iloc[3:7])\n",
    "pvalues.append(p)\n",
    "print('Addition of 1000 artemia results in t = ' + str(t) + ' and p = ' + str(p))\n",
    "\n",
    "[t, p] = ttest_rel(df['isolated'].iloc[3:7], df['social'].iloc[3:7])\n",
    "pvalues.append(p)\n",
    "print('Addition of 14 zebrafish results in t = ' + str(t) + ' and p = ' + str(p))\n",
    "\n",
    "multipletests(pvalues, alpha=0.05, method='fdr_bh', is_sorted=False, returnsorted=False)"
   ]
  },
  {
   "cell_type": "markdown",
   "metadata": {},
   "source": [
    "## 4 e) Impact of mechanical stimulation"
   ]
  },
  {
   "cell_type": "code",
   "execution_count": 23,
   "metadata": {},
   "outputs": [],
   "source": [
    "d = {'isolated': [4.872,5.272,4.589,4.506,4.941,\n",
    "                  4.589,4.506,4.941,5.019,4.847,\n",
    "                  6.272,4.884,4.769,6.565,4.990,\n",
    "                  4.309,4.423,4.206,4.895,4.733,\n",
    "                  5.263,5.169,4.634,4.901,5.572,\n",
    "                  4.614,5.017,4.067],\n",
    "    'periodic': [4.289,4.944,4.891,4.522,4.706,\n",
    "                 4.891,4.522,4.706,np.nan,np.nan,\n",
    "                 np.nan, np.nan, np.nan, np.nan, np.nan,\n",
    "                 np.nan, np.nan, np.nan, np.nan, np.nan,\n",
    "                 np.nan, np.nan, np.nan, np.nan, np.nan,\n",
    "                 np.nan, np.nan, np.nan],\n",
    "    '3 hours': [np.nan, np.nan, np.nan, np.nan, np.nan,\n",
    "                np.nan, np.nan, np.nan, 4.263, 4.037,\n",
    "                5.486,4.631,4.944,5.731,4.623,\n",
    "                4.432,3.764,3.851,np.nan, np.nan, \n",
    "                np.nan, np.nan, np.nan, np.nan, np.nan,\n",
    "                np.nan, np.nan, np.nan],\n",
    "    '6 hours': [np.nan, np.nan, np.nan, np.nan, np.nan,\n",
    "                np.nan, np.nan, np.nan, np.nan, np.nan,\n",
    "                np.nan, np.nan, np.nan, np.nan, np.nan,\n",
    "                np.nan, np.nan, np.nan, 4.217,4.266,\n",
    "                4.185,4.293,4.423,4.254,4.188,\n",
    "                4.395,3.666,3.623]}\n",
    "\n",
    "df = pd.DataFrame(data=d)"
   ]
  },
  {
   "cell_type": "code",
   "execution_count": 24,
   "metadata": {},
   "outputs": [
    {
     "name": "stdout",
     "output_type": "stream",
     "text": [
      "For periodic stimulation, t = 0.8504497340075354 and p = 0.42320753025009483\n",
      "For 3 hours of random stimulation, t = 3.761233161640674 and p = 0.004476493708684494\n",
      "For 6 hours of random stimulation, t = 5.437773976058705 and p = 0.00041217482919133643\n"
     ]
    },
    {
     "data": {
      "text/plain": [
       "(array([False,  True,  True]),\n",
       " array([0.42320753, 0.00671474, 0.00123652]),\n",
       " 0.016952427508441503,\n",
       " 0.016666666666666666)"
      ]
     },
     "execution_count": 24,
     "metadata": {},
     "output_type": "execute_result"
    }
   ],
   "source": [
    "pvalues = []\n",
    "\n",
    "[t, p] = ttest_rel(df['isolated'].iloc[0:8], df['periodic'].iloc[0:8])\n",
    "pvalues.append(p)\n",
    "print('For periodic stimulation, t = ' + str(t) + ' and p = ' + str(p))\n",
    "\n",
    "[t, p] = ttest_rel(df['isolated'].iloc[8:18], df['3 hours'].iloc[8:18])\n",
    "pvalues.append(p)\n",
    "print('For 3 hours of random stimulation, t = ' + str(t) + ' and p = ' + str(p))\n",
    "\n",
    "[t, p] = ttest_rel(df['isolated'].iloc[18:28], df['6 hours'].iloc[18:28])\n",
    "pvalues.append(p)\n",
    "print('For 6 hours of random stimulation, t = ' + str(t) + ' and p = ' + str(p))\n",
    "\n",
    "multipletests(pvalues, alpha=0.05, method='fdr_bh', is_sorted=False, returnsorted=False)"
   ]
  },
  {
   "cell_type": "code",
   "execution_count": 25,
   "metadata": {},
   "outputs": [
    {
     "data": {
      "text/plain": [
       "Ttest_indResult(statistic=-1.8817136316265357, pvalue=0.07614800560969336)"
      ]
     },
     "execution_count": 25,
     "metadata": {},
     "output_type": "execute_result"
    }
   ],
   "source": [
    "ttest_ind(df['6 hours'].iloc[18:28],df['3 hours'].iloc[8:18])"
   ]
  },
  {
   "cell_type": "markdown",
   "metadata": {},
   "source": [
    "# Supplemental figures\n",
    "\n",
    "\n",
    "## Fig. S1 b) Response of the stress axis to social exposure"
   ]
  },
  {
   "cell_type": "code",
   "execution_count": 26,
   "metadata": {},
   "outputs": [
    {
     "name": "stdout",
     "output_type": "stream",
     "text": [
      "Comparing StAR expression levels between animals reared in isolation and socially exposed (3 hours), results in t = 0.3767183391990697 and p = 0.7142532890330876\n",
      "Comparing nr3c1 expression levels between animals reared in isolation and socially exposed (3 hours), results in t = -0.44618803711471194 and p = 0.6649673964527298\n"
     ]
    }
   ],
   "source": [
    "Ct_dict = {'StAR': {'isolated': [1.76,3.55,4.09,1.08,1.29,1.53], \n",
    "                      'social': [2.99,1.75,1.96,2.17,1.39,1.76]},\n",
    "             'nr3c1': {'isolated': [-0.95,-1.32,-1.00,-1.87,-2.22,-1.76], \n",
    "                       'social': [-1.07,-1.12,-0.97,-1.95,-1.60,-1.70]}}\n",
    "\n",
    "\n",
    "df = pd.DataFrame.from_dict({(i,j): Ct_dict[i][j] \n",
    "                           for i in Ct_dict.keys() \n",
    "                           for j in Ct_dict[i].keys()})\n",
    "\n",
    "\n",
    "[t,p] = ttest_ind(df['StAR']['isolated'], df['StAR']['social'])\n",
    "print('Comparing StAR expression levels between animals reared in isolation and socially exposed (3 hours), results in t = '\n",
    "     + str(t) + ' and p = ' + str(p))\n",
    "[t,p] = ttest_ind(df['nr3c1']['isolated'], df['nr3c1']['social'])\n",
    "print('Comparing nr3c1 expression levels between animals reared in isolation and socially exposed (3 hours), results in t = '\n",
    "     + str(t) + ' and p = ' + str(p))"
   ]
  },
  {
   "cell_type": "markdown",
   "metadata": {},
   "source": [
    "## Fig. S5: Impact of sex and density on *pth2* expression in adult zebrafish\n",
    "\n",
    "Most of our results were obtained from larval or juvenile zebrafish. At these stages, sexual differentiation has not taken place yet. We adressed the question whether sex is a factor in *pth2* expression strength at later, adult stages of development.\n",
    "\n",
    "## S5 a) Impact of sex on *pth2* expression in adult zebrafish"
   ]
  },
  {
   "cell_type": "code",
   "execution_count": 27,
   "metadata": {},
   "outputs": [
    {
     "data": {
      "text/html": [
       "<div>\n",
       "<style scoped>\n",
       "    .dataframe tbody tr th:only-of-type {\n",
       "        vertical-align: middle;\n",
       "    }\n",
       "\n",
       "    .dataframe tbody tr th {\n",
       "        vertical-align: top;\n",
       "    }\n",
       "\n",
       "    .dataframe thead th {\n",
       "        text-align: right;\n",
       "    }\n",
       "</style>\n",
       "<table border=\"1\" class=\"dataframe\">\n",
       "  <thead>\n",
       "    <tr style=\"text-align: right;\">\n",
       "      <th></th>\n",
       "      <th>male</th>\n",
       "      <th>female</th>\n",
       "    </tr>\n",
       "  </thead>\n",
       "  <tbody>\n",
       "    <tr>\n",
       "      <th>0</th>\n",
       "      <td>0.157</td>\n",
       "      <td>0.093</td>\n",
       "    </tr>\n",
       "    <tr>\n",
       "      <th>1</th>\n",
       "      <td>0.254</td>\n",
       "      <td>-0.035</td>\n",
       "    </tr>\n",
       "    <tr>\n",
       "      <th>2</th>\n",
       "      <td>-0.419</td>\n",
       "      <td>-0.280</td>\n",
       "    </tr>\n",
       "    <tr>\n",
       "      <th>3</th>\n",
       "      <td>-0.329</td>\n",
       "      <td>-0.453</td>\n",
       "    </tr>\n",
       "  </tbody>\n",
       "</table>\n",
       "</div>"
      ],
      "text/plain": [
       "    male  female\n",
       "0  0.157   0.093\n",
       "1  0.254  -0.035\n",
       "2 -0.419  -0.280\n",
       "3 -0.329  -0.453"
      ]
     },
     "execution_count": 27,
     "metadata": {},
     "output_type": "execute_result"
    }
   ],
   "source": [
    "d = {'male': [0.157,0.254,-0.419,-0.329],\n",
    "    'female': [0.093,-0.035,-0.280,-0.453]}\n",
    "\n",
    "df = pd.DataFrame(data=d)\n",
    "df.head()"
   ]
  },
  {
   "cell_type": "code",
   "execution_count": 28,
   "metadata": {},
   "outputs": [
    {
     "name": "stdout",
     "output_type": "stream",
     "text": [
      "Comparing pth2 levels of adult males and females, t = 0.4043141263942289 and p = 0.6999994670017485\n"
     ]
    }
   ],
   "source": [
    "[t, p] = ttest_ind(df['male'], df['female'])\n",
    "print('Comparing pth2 levels of adult males and females, t = ' + str(t) + ' and p = ' + str(p))"
   ]
  },
  {
   "cell_type": "markdown",
   "metadata": {},
   "source": [
    "## S5 b) Impact of density on *pth2* expression in adult zebrafish"
   ]
  },
  {
   "cell_type": "code",
   "execution_count": 41,
   "metadata": {},
   "outputs": [
    {
     "data": {
      "text/html": [
       "<div>\n",
       "<style scoped>\n",
       "    .dataframe tbody tr th:only-of-type {\n",
       "        vertical-align: middle;\n",
       "    }\n",
       "\n",
       "    .dataframe tbody tr th {\n",
       "        vertical-align: top;\n",
       "    }\n",
       "\n",
       "    .dataframe thead th {\n",
       "        text-align: right;\n",
       "    }\n",
       "</style>\n",
       "<table border=\"1\" class=\"dataframe\">\n",
       "  <thead>\n",
       "    <tr style=\"text-align: right;\">\n",
       "      <th></th>\n",
       "      <th>5</th>\n",
       "      <th>35</th>\n",
       "    </tr>\n",
       "  </thead>\n",
       "  <tbody>\n",
       "    <tr>\n",
       "      <th>0</th>\n",
       "      <td>1.354</td>\n",
       "      <td>1.094</td>\n",
       "    </tr>\n",
       "    <tr>\n",
       "      <th>1</th>\n",
       "      <td>1.926</td>\n",
       "      <td>1.277</td>\n",
       "    </tr>\n",
       "    <tr>\n",
       "      <th>2</th>\n",
       "      <td>2.082</td>\n",
       "      <td>1.377</td>\n",
       "    </tr>\n",
       "    <tr>\n",
       "      <th>3</th>\n",
       "      <td>1.916</td>\n",
       "      <td>1.972</td>\n",
       "    </tr>\n",
       "    <tr>\n",
       "      <th>4</th>\n",
       "      <td>2.387</td>\n",
       "      <td>1.618</td>\n",
       "    </tr>\n",
       "  </tbody>\n",
       "</table>\n",
       "</div>"
      ],
      "text/plain": [
       "       5     35\n",
       "0  1.354  1.094\n",
       "1  1.926  1.277\n",
       "2  2.082  1.377\n",
       "3  1.916  1.972\n",
       "4  2.387  1.618"
      ]
     },
     "execution_count": 41,
     "metadata": {},
     "output_type": "execute_result"
    }
   ],
   "source": [
    "d = {'5': [1.354,1.926,2.082,1.916,2.387,1.790],\n",
    "    '35': [1.094,1.277,1.377,1.972,1.618,1.376]}\n",
    "\n",
    "df = pd.DataFrame(data=d)\n",
    "df.head()"
   ]
  },
  {
   "cell_type": "code",
   "execution_count": 42,
   "metadata": {},
   "outputs": [
    {
     "name": "stdout",
     "output_type": "stream",
     "text": [
      "Comparing pth2 levels in adults of different densities, results in t = 2.442944835707187 and p = 0.034673841476036096\n"
     ]
    }
   ],
   "source": [
    "[t, p] = ttest_ind(df['5'], df['35'])\n",
    "print('Comparing pth2 levels in adults of different densities, results in t = ' + str(t) + ' and p = ' + str(p))"
   ]
  },
  {
   "cell_type": "markdown",
   "metadata": {},
   "source": [
    "## Fig. S6 a) Impact of the rearing condition on locomotion"
   ]
  },
  {
   "cell_type": "code",
   "execution_count": null,
   "metadata": {},
   "outputs": [],
   "source": [
    "rearing_dict = {'isolation': [1.46, 0.67, 1.24, 1.12, 1.33, 1.17, 1.13, 1.16, 0.58, 1.63, 1.41, 1.13, 1.33, 1.12],\n",
    "               'social': [1.22, 2.22, 0.79, 0.57, 0.84, 1.07, 0.92, 1.10, 1.37, 1.40, 1.01, np.nan, np.nan, np.nan]}\n",
    "\n",
    "df = pd.DataFrame(data=rearing_dict)\n",
    "\n",
    "[t, p] = ttest_ind(df['isolation'], df['social'].iloc[0:-3])\n",
    "print('Comparing average velocity of animals reared in isolation or with conspecifics, t = ' + str(t) + ' and p = ' + str(p))"
   ]
  },
  {
   "cell_type": "markdown",
   "metadata": {},
   "source": [
    "## Fig. S6 b) Impact of the presence of conspecifics on locomotion"
   ]
  },
  {
   "cell_type": "code",
   "execution_count": null,
   "metadata": {},
   "outputs": [],
   "source": [
    "presence_dict = {'isolation': [0.70, 0.33, 0.42, 0.78, 0.70, 0.82, 0.85, 0.59],\n",
    "               'social': [ 0.60, 0.69, 0.62, 0.75, 0.43, 0.58, 0.64, 0.59]}\n",
    "\n",
    "df = pd.DataFrame(data=presence_dict)\n",
    "\n",
    "[t, p] = ttest_ind(df['isolation'], df['social'].iloc[0:-3])\n",
    "print('Comparing average velocity of isolation-reared animals in the presence or absence of conspecifics, t = ' + str(t) + ' and p = ' + str(p))"
   ]
  },
  {
   "cell_type": "markdown",
   "metadata": {},
   "source": [
    "## Fig. S6 d) Impact of visual access to conspecifics on locomotion"
   ]
  },
  {
   "cell_type": "code",
   "execution_count": null,
   "metadata": {},
   "outputs": [],
   "source": [
    "\n",
    "\n",
    "\n",
    "df = {'age': [7,7,7,7,7,7,7,7,7,7,7,7,7,7,7,7,7,7,\n",
    "              7,7,7,7,7,7,7,7,7,7,7,7,7,7,7,7,7,7,\n",
    "              7,7,7,7,7,7,7,7,7,7,7,7,7,7,7,7,7,7, \n",
    "              7,7,7,7,7,7,7,7,7,7,7,7,7,7,7,7,7,7, \n",
    "              14,14,14,14,14,14,14,14,14,14,14,14,14,14,14,14,14,14,\n",
    "              14,14,14,14,14,14,14,14,14,14,14,14,14,14,14,14,14,14,\n",
    "              14,14,14,14,14,14,14,14,14,14,14,14,14,14,14,14,14,14,\n",
    "              14,14,14,14,14,14,14,14,14,14,14,14,14,14,14,14,14,14,\n",
    "              21,21,21,21,21,21,21,21,21,21,21,21,21,21,21,21,21,21,\n",
    "              21,21,21,21,21,21,21,21,21,21,21,21,21,21,21,21,21,21,\n",
    "              21,21,21,21,21,21,21,21,21,21,21,21,21,21,21,21,21,21,\n",
    "              21,21,21,21,21,21,21,21,21,21,21,21,21,21,21,21,21,21,\n",
    "              28,28,28,28,28,28,28,28,28,28,28,28,28,28,28,28,28,28,\n",
    "              28,28,28,28,28,28,28,28,28,28,28,28,28,28,28,28,28,28,\n",
    "              28,28,28,28,28,28,28,28,28,28,28,28,28,28,28,28,28,28,\n",
    "              28,28,28,28,28,28,28,28,28,28,28,28,28,28,28,28,28,28\n",
    "             ],\n",
    "      'rearing': [1,1,1,1,1,1,1,1,1,1,1,1,1,1,1,1,1,1,\n",
    "                  1,1,1,1,1,1,1,1,1,1,1,1,1,1,1,1,1,1,\n",
    "                  0,0,0,0,0,0,0,0,0,0,0,0,0,0,0,0,0,0,\n",
    "                  0,0,0,0,0,0,0,0,0,0,0,0,0,0,0,0,0,0,\n",
    "                  \n",
    "                  1,1,1,1,1,1,1,1,1,1,1,1,1,1,1,1,1,1,\n",
    "                  1,1,1,1,1,1,1,1,1,1,1,1,1,1,1,1,1,1,\n",
    "                  0,0,0,0,0,0,0,0,0,0,0,0,0,0,0,0,0,0,\n",
    "                  0,0,0,0,0,0,0,0,0,0,0,0,0,0,0,0,0,0,\n",
    "                  \n",
    "                  1,1,1,1,1,1,1,1,1,1,1,1,1,1,1,1,1,1,\n",
    "                  1,1,1,1,1,1,1,1,1,1,1,1,1,1,1,1,1,1,\n",
    "                  0,0,0,0,0,0,0,0,0,0,0,0,0,0,0,0,0,0,\n",
    "                  0,0,0,0,0,0,0,0,0,0,0,0,0,0,0,0,0,0,\n",
    "                  \n",
    "                  1,1,1,1,1,1,1,1,1,1,1,1,1,1,1,1,1,1,\n",
    "                  1,1,1,1,1,1,1,1,1,1,1,1,1,1,1,1,1,1,\n",
    "                  0,0,0,0,0,0,0,0,0,0,0,0,0,0,0,0,0,0,\n",
    "                  0,0,0,0,0,0,0,0,0,0,0,0,0,0,0,0,0,0],\n",
    "      'visual_access': [0,0,0,0,0,0,0,0,0,0,0,0,0,0,0,0,0,0,\n",
    "                        1,1,1,1,1,1,1,1,1,1,1,1,1,1,1,1,1,1,\n",
    "                        0,0,0,0,0,0,0,0,0,0,0,0,0,0,0,0,0,0,\n",
    "                        1,1,1,1,1,1,1,1,1,1,1,1,1,1,1,1,1,1,\n",
    "                        \n",
    "                        0,0,0,0,0,0,0,0,0,0,0,0,0,0,0,0,0,0,\n",
    "                        1,1,1,1,1,1,1,1,1,1,1,1,1,1,1,1,1,1,\n",
    "                        0,0,0,0,0,0,0,0,0,0,0,0,0,0,0,0,0,0,\n",
    "                        1,1,1,1,1,1,1,1,1,1,1,1,1,1,1,1,1,1,\n",
    "                        \n",
    "                        0,0,0,0,0,0,0,0,0,0,0,0,0,0,0,0,0,0,\n",
    "                        1,1,1,1,1,1,1,1,1,1,1,1,1,1,1,1,1,1,\n",
    "                        0,0,0,0,0,0,0,0,0,0,0,0,0,0,0,0,0,0,\n",
    "                        1,1,1,1,1,1,1,1,1,1,1,1,1,1,1,1,1,1,\n",
    "                        \n",
    "                        0,0,0,0,0,0,0,0,0,0,0,0,0,0,0,0,0,0,\n",
    "                        1,1,1,1,1,1,1,1,1,1,1,1,1,1,1,1,1,1,\n",
    "                        0,0,0,0,0,0,0,0,0,0,0,0,0,0,0,0,0,0,\n",
    "                        1,1,1,1,1,1,1,1,1,1,1,1,1,1,1,1,1,1],\n",
    "      'values':[2.9, 4.9, 3.5, 4.9, np.nan, 3.4, 1.4, 3.5, 4.4, 4.0, 3.1, np.nan, 2.2, 3.5, 5.0, 3.8, np.nan, 5.1,\n",
    "                2.8, 2.4, 2.9, 2.6, 3.4, 2.6, np.nan, 3.1, 2.3, 3.6, 2.5, 2.1, 2.2, 1.3, np.nan, 0.9, 4.1, 4.3,\n",
    "                2.3, 1.9, 1.7, 1.5, 1.9, 2.2, 1.8, 4.4, 2.8, 1.8, np.nan, 2.6, 1.5, 2.3, 2.5, 2.1, 1.7, 2.8,\n",
    "                2.3, 3.1, 1.7, 1.8, 2.1, 1.7, 2.5, 3.3, 2.5, 1.5, 1.8, 2.5, 2.3, 1.4, 2.1, 1.4, 1.8, 1.9,\n",
    "                \n",
    "                7.3, np.nan, 6.7, 10.6, 9.1, 2.5, 4.8, 5.8, 6.0, 7.4, 8.1, 3.5, 5.4, 3.8, 5.0, 8.0, 0.5, 0.9,\n",
    "                4.0, 12.7, 11.6, 12.7, 10.0, 2.3, 2.4, 5.8, 3.8, 7.3, 5.6, 4.4, 4.4, 3.4, 4.0, 8.6, 1.3, 1.0,\n",
    "                2.8, 2.9, 4.3, 0.3, 6.6, 8.0, 6.6, 1.2, 5.6, np.nan, 1.5, np.nan, 2.8, 3.1, 10.4, 4.3, 0.4, np.nan,\n",
    "                3.8, 4.1, 6.8, 1.3, 5.7, 5.4, 5.9, 3.5, 2.5, np.nan, 5.1, np.nan, 2.2, 4.4, 2.0, 1.8, np.nan, np.nan,\n",
    "               \n",
    "                10.6, 7.9, 13.0, 9.0, 10.1, 6.5, 8.1, 9.0, 11.0, 10.9, 12.2, 9.3, 14.2, 10.9, 13.9, 8.4, 10.7, 5.8,\n",
    "                8.4, 10.3, 8.6, 7.4, 8.4, 10.0, 7.3, np.nan, 7.7, 9.3, 13.1, 9.0, 12.8, 7.5, np.nan, 7.7, 7.1, 4.5,\n",
    "                8.9, 6.5, 7.2, 8.6, 7.5, 5.3, 8.0, 10.7, 7.6, 6.5, 7.7, 8.7, 8.0, 5.1, 7.3, 8.2, 10.3, np.nan,\n",
    "                9.0, 8.5, np.nan, np.nan, 11.9, 6.6, 6.8, 8.8, 6.8, 7.6, 7.4, 10.3, np.nan, 9.1, 8.5, np.nan, 12.3, np.nan,\n",
    "                \n",
    "                13.6, 15.5, 4.5, 12.8, 5.0, 6.9, 7.5, 13.3, 13.4, 17.5, np.nan, 13.0, np.nan, np.nan, 8.2, 8.8, 16.2, 18.4,                \n",
    "                19.2, 17.1, 13.7, 18.6, 8.9, 12.3, 21.5, 21.6, 14.3, 20.6, 9.8, 19.9, 3.1, 7.4, 18.9, 10.1, 11.6, 21.9,\n",
    "                12.8, np.nan, 3.1, 19.8, 2.9, 11.0, 16.3, 13.1, 11.4, 10.1, np.nan,np.nan,np.nan,np.nan,np.nan,np.nan,np.nan,np.nan,\n",
    "                9.6, np.nan, 2.6, 15.5, 3.4, 12.4, 13.5, 11.5, 13.7, 8.9, np.nan,np.nan,np.nan,np.nan,np.nan,np.nan,np.nan,np.nan\n",
    "               ]}\n",
    "                        \n",
    "\n",
    "\n",
    "df = pd.DataFrame(data = df)\n",
    "\n",
    "formula = 'values ~ age + rearing + visual_access + age:rearing + age:visual_access + rearing:visual_access + age:rearing:visual_access'\n",
    "\n",
    "\n",
    "model = ols(formula, df).fit()\n",
    "aov_table = anova_lm(model, typ=2)\n",
    "\n",
    "print(aov_table.round(6))\n"
   ]
  },
  {
   "cell_type": "code",
   "execution_count": null,
   "metadata": {},
   "outputs": [],
   "source": [
    "va_dict = {'7 dpf': {'rearing': {'social': {'no va':[2.9, 4.9, 3.5, 4.9, np.nan, 3.4, 1.4, 3.5, 4.4, 4.0, 3.1, np.nan, 2.2, 3.5, 5.0, 3.8, np.nan, 5.1],\n",
    "                                            'va':[2.8, 2.4, 2.9, 2.6, 3.4, 2.6, np.nan, 3.1, 2.3, 3.6, 2.5, 2.1, 2.2, 1.3, np.nan, 0.9, 4.1, 4.3]},\n",
    "                               'isolated': {'no va': [2.3, 1.9, 1.7, 1.5, 1.9, 2.2, 1.8, 4.4, 2.8, 1.8, np.nan, 2.6, 1.5, 2.3, 2.5, 2.1, 1.7, 2.8],\n",
    "                                         'va': [2.3, 3.1, 1.7, 1.8, 2.1, 1.7, 2.5, 3.3, 2.5, 1.5, 1.8, 2.5, 2.3, 1.4, 2.1, 1.4, 1.8, 1.9]}}},\n",
    "           '14 dpf':{'rearing': {'social':{'no va': [7.3, np.nan, 6.7, 10.6, 9.1, 2.5, 4.8, 5.8, 6.0, 7.4, 8.1, 3.5, 5.4, 3.8, 5.0, 8.0, 0.5, 0.9],\n",
    "                                         'va': [4.0, 12.7, 11.6, 12.7, 10.0, 2.3, 2.4, 5.8, 3.8, 7.3, 5.6, 4.4, 4.4, 3.4, 4.0, 8.6, 1.3, 1.0]},\n",
    "                               'isolated':{'no va': [2.8, 2.9, 4.3, 0.3, 6.6, 8.0, 6.6, 1.2, 5.6, np.nan, 1.5, np.nan, 2.8, 3.1, 10.4, 4.3, 0.4, np.nan],\n",
    "                                         'va': [3.8, 4.1, 6.8, 1.3, 5.7, 5.4, 5.9, 3.5, 2.5, np.nan, 5.1, np.nan, 2.2, 4.4, 2.0, 1.8, np.nan, np.nan]}}},\n",
    "           '21 dpf':{'rearing': {'social':{'no va': [10.6, 7.9, 13.0, 9.0, 10.1, 6.5, 8.1, 9.0, 11.0, 10.9, 12.2, 9.3, 14.2, 10.9, 13.9, 8.4, 10.7, 5.8],\n",
    "                                         'va': [8.4, 10.3, 8.6, 7.4, 8.4, 10.0, 7.3, np.nan, 7.7, 9.3, 13.1, 9.0, 12.8, 7.5, np.nan, 7.7, 7.1, 4.5]},\n",
    "                               'isolated':{'no va': [8.9, 6.5, 7.2, 8.6, 7.5, 5.3, 8.0, 10.7, 7.6, 6.5, 7.7, 8.7, 8.0, 5.1, 7.3, 8.2, 10.3, np.nan],\n",
    "                                         'va': [9.0, 8.5, np.nan, np.nan, 11.9, 6.6, 6.8, 8.8, 6.8, 7.6, 7.4, 10.3, np.nan, 9.1, 8.5, np.nan, 12.3, np.nan]}}},\n",
    "           '28 dpf':{'rearing': {'social':{'no va': [13.6, 15.5, 4.5, 12.8, 5.0, 6.9, 7.5, 13.3, 13.4, 17.5, np.nan, 13.0, np.nan, np.nan, 8.2, 8.8, 16.2, 18.4],\n",
    "                                         'va': [19.2, 17.1, 13.7, 18.6, 8.9, 12.3, 21.5, 21.6, 14.3, 20.6, 9.8, 19.9, 3.1, 7.4, 18.9, 10.1, 11.6, 21.9]},\n",
    "                               'isolated':{'no va': [12.8, np.nan, 3.1, 19.8, 2.9, 11.0, 16.3, 13.1, 11.4, 10.1, np.nan,np.nan,np.nan,np.nan,np.nan,np.nan,np.nan,np.nan,],\n",
    "                                         'va': [9.6, np.nan, 2.6, 15.5, 3.4, 12.4, 13.5, 11.5, 13.7, 8.9, np.nan,np.nan,np.nan,np.nan,np.nan,np.nan,np.nan,np.nan]}}}}\n",
    " \n",
    "    \n",
    "df = pd.DataFrame.from_dict({(i,j, k, l): va_dict[i][j][k][l] \n",
    "                           for i in va_dict.keys() \n",
    "                           for j in va_dict[i].keys()\n",
    "                             for k in va_dict[i][j].keys()\n",
    "                             for l in va_dict[i][j][k].keys()\n",
    "                            })\n",
    "\n",
    "ages = ['7 dpf', '14 dpf', '21 dpf', '28 dpf']\n",
    "pvalues = []\n",
    "for age in ages:\n",
    "    [t, p] = ttest_ind(df[age]['rearing']['isolated'].dropna(), df[age]['rearing']['social'].dropna())\n",
    "    print(age + ': t = ' + str(t) + ' and p = ' + str(p))\n",
    "    pvalues.append(p[0])\n",
    "    pvalues.append(p[1])\n",
    "    \n",
    "pvalues\n",
    "multipletests(pvalues, alpha=0.05, method='holm', is_sorted=False, returnsorted=False)"
   ]
  },
  {
   "cell_type": "markdown",
   "metadata": {},
   "source": [
    "## Fig. S7 - Artificial mechanical stimulation\n",
    "As we do not show all experiments we performed with artificial mechanical stimulation (piezo-paradigm) in the main figures, we provide a more comprehensive list in the supplements.\n",
    "## S7 a) Additional stimulation paradigms and their effect on *pth2* expression"
   ]
  },
  {
   "cell_type": "code",
   "execution_count": 31,
   "metadata": {},
   "outputs": [
    {
     "data": {
      "text/html": [
       "<div>\n",
       "<style scoped>\n",
       "    .dataframe tbody tr th:only-of-type {\n",
       "        vertical-align: middle;\n",
       "    }\n",
       "\n",
       "    .dataframe tbody tr th {\n",
       "        vertical-align: top;\n",
       "    }\n",
       "\n",
       "    .dataframe thead th {\n",
       "        text-align: right;\n",
       "    }\n",
       "</style>\n",
       "<table border=\"1\" class=\"dataframe\">\n",
       "  <thead>\n",
       "    <tr style=\"text-align: right;\">\n",
       "      <th></th>\n",
       "      <th>isolated70cont</th>\n",
       "      <th>piezo70cont</th>\n",
       "      <th>isolated70contKIW</th>\n",
       "      <th>piezo70contKIW</th>\n",
       "      <th>isolated70_2_300</th>\n",
       "      <th>piezo70_2_300</th>\n",
       "      <th>isolated70_2_5000</th>\n",
       "      <th>piezo70_2_5000</th>\n",
       "      <th>isolated70_2r_300</th>\n",
       "      <th>piezo70_2r_300</th>\n",
       "      <th>isolated70_2r_500</th>\n",
       "      <th>piezo70_2r_500</th>\n",
       "      <th>isolated70_2r_700</th>\n",
       "      <th>piezo70_2r_700</th>\n",
       "      <th>isolated70_2r_800</th>\n",
       "      <th>piezo70_2r_800</th>\n",
       "    </tr>\n",
       "  </thead>\n",
       "  <tbody>\n",
       "    <tr>\n",
       "      <th>0</th>\n",
       "      <td>4.890</td>\n",
       "      <td>8.0276</td>\n",
       "      <td>4.386</td>\n",
       "      <td>4.347</td>\n",
       "      <td>4.589</td>\n",
       "      <td>4.891</td>\n",
       "      <td>4.769</td>\n",
       "      <td>4.426</td>\n",
       "      <td>4.523</td>\n",
       "      <td>4.412</td>\n",
       "      <td>3.847</td>\n",
       "      <td>4.171</td>\n",
       "      <td>4.480</td>\n",
       "      <td>5.900</td>\n",
       "      <td>4.757</td>\n",
       "      <td>4.510</td>\n",
       "    </tr>\n",
       "    <tr>\n",
       "      <th>1</th>\n",
       "      <td>5.970</td>\n",
       "      <td>6.4080</td>\n",
       "      <td>5.163</td>\n",
       "      <td>5.289</td>\n",
       "      <td>4.506</td>\n",
       "      <td>4.522</td>\n",
       "      <td>4.300</td>\n",
       "      <td>4.620</td>\n",
       "      <td>4.075</td>\n",
       "      <td>4.508</td>\n",
       "      <td>4.284</td>\n",
       "      <td>3.880</td>\n",
       "      <td>5.042</td>\n",
       "      <td>5.419</td>\n",
       "      <td>4.294</td>\n",
       "      <td>4.438</td>\n",
       "    </tr>\n",
       "    <tr>\n",
       "      <th>2</th>\n",
       "      <td>5.018</td>\n",
       "      <td>6.3750</td>\n",
       "      <td>NaN</td>\n",
       "      <td>NaN</td>\n",
       "      <td>4.941</td>\n",
       "      <td>4.706</td>\n",
       "      <td>NaN</td>\n",
       "      <td>NaN</td>\n",
       "      <td>4.334</td>\n",
       "      <td>4.346</td>\n",
       "      <td>NaN</td>\n",
       "      <td>NaN</td>\n",
       "      <td>5.383</td>\n",
       "      <td>4.924</td>\n",
       "      <td>5.384</td>\n",
       "      <td>4.893</td>\n",
       "    </tr>\n",
       "    <tr>\n",
       "      <th>3</th>\n",
       "      <td>6.747</td>\n",
       "      <td>5.2590</td>\n",
       "      <td>NaN</td>\n",
       "      <td>NaN</td>\n",
       "      <td>NaN</td>\n",
       "      <td>NaN</td>\n",
       "      <td>NaN</td>\n",
       "      <td>NaN</td>\n",
       "      <td>NaN</td>\n",
       "      <td>NaN</td>\n",
       "      <td>NaN</td>\n",
       "      <td>NaN</td>\n",
       "      <td>NaN</td>\n",
       "      <td>NaN</td>\n",
       "      <td>4.996</td>\n",
       "      <td>7.979</td>\n",
       "    </tr>\n",
       "    <tr>\n",
       "      <th>4</th>\n",
       "      <td>5.424</td>\n",
       "      <td>5.1150</td>\n",
       "      <td>NaN</td>\n",
       "      <td>NaN</td>\n",
       "      <td>NaN</td>\n",
       "      <td>NaN</td>\n",
       "      <td>NaN</td>\n",
       "      <td>NaN</td>\n",
       "      <td>NaN</td>\n",
       "      <td>NaN</td>\n",
       "      <td>NaN</td>\n",
       "      <td>NaN</td>\n",
       "      <td>NaN</td>\n",
       "      <td>NaN</td>\n",
       "      <td>5.501</td>\n",
       "      <td>5.773</td>\n",
       "    </tr>\n",
       "    <tr>\n",
       "      <th>5</th>\n",
       "      <td>5.239</td>\n",
       "      <td>4.7080</td>\n",
       "      <td>NaN</td>\n",
       "      <td>NaN</td>\n",
       "      <td>NaN</td>\n",
       "      <td>NaN</td>\n",
       "      <td>NaN</td>\n",
       "      <td>NaN</td>\n",
       "      <td>NaN</td>\n",
       "      <td>NaN</td>\n",
       "      <td>NaN</td>\n",
       "      <td>NaN</td>\n",
       "      <td>NaN</td>\n",
       "      <td>NaN</td>\n",
       "      <td>NaN</td>\n",
       "      <td>NaN</td>\n",
       "    </tr>\n",
       "  </tbody>\n",
       "</table>\n",
       "</div>"
      ],
      "text/plain": [
       "   isolated70cont  piezo70cont  isolated70contKIW  piezo70contKIW  \\\n",
       "0           4.890       8.0276              4.386           4.347   \n",
       "1           5.970       6.4080              5.163           5.289   \n",
       "2           5.018       6.3750                NaN             NaN   \n",
       "3           6.747       5.2590                NaN             NaN   \n",
       "4           5.424       5.1150                NaN             NaN   \n",
       "5           5.239       4.7080                NaN             NaN   \n",
       "\n",
       "   isolated70_2_300  piezo70_2_300  isolated70_2_5000  piezo70_2_5000  \\\n",
       "0             4.589          4.891              4.769           4.426   \n",
       "1             4.506          4.522              4.300           4.620   \n",
       "2             4.941          4.706                NaN             NaN   \n",
       "3               NaN            NaN                NaN             NaN   \n",
       "4               NaN            NaN                NaN             NaN   \n",
       "5               NaN            NaN                NaN             NaN   \n",
       "\n",
       "   isolated70_2r_300  piezo70_2r_300  isolated70_2r_500  piezo70_2r_500  \\\n",
       "0              4.523           4.412              3.847           4.171   \n",
       "1              4.075           4.508              4.284           3.880   \n",
       "2              4.334           4.346                NaN             NaN   \n",
       "3                NaN             NaN                NaN             NaN   \n",
       "4                NaN             NaN                NaN             NaN   \n",
       "5                NaN             NaN                NaN             NaN   \n",
       "\n",
       "   isolated70_2r_700  piezo70_2r_700  isolated70_2r_800  piezo70_2r_800  \n",
       "0              4.480           5.900              4.757           4.510  \n",
       "1              5.042           5.419              4.294           4.438  \n",
       "2              5.383           4.924              5.384           4.893  \n",
       "3                NaN             NaN              4.996           7.979  \n",
       "4                NaN             NaN              5.501           5.773  \n",
       "5                NaN             NaN                NaN             NaN  "
      ]
     },
     "execution_count": 31,
     "metadata": {},
     "output_type": "execute_result"
    }
   ],
   "source": [
    "## 70 Hz - continuous stimulation\n",
    "d = {'isolated70cont':[4.890,5.970,5.018,6.747,5.424,5.239],\n",
    "     'piezo70cont':[8.0276,6.408,6.375,5.259,5.115,4.708],\n",
    "    # 70 Hz - with kin-imbued water\n",
    "     'isolated70contKIW':[4.386,5.163, np.nan, np.nan, np.nan, np.nan],\n",
    "     'piezo70contKIW':[4.347,5.289, np.nan, np.nan, np.nan, np.nan],\n",
    "    # 70 Hz, two piezo pieces, 300 msec\n",
    "     'isolated70_2_300': [4.589,4.506,4.941, np.nan, np.nan, np.nan],\n",
    "     'piezo70_2_300': [4.891,4.522,4.706, np.nan, np.nan, np.nan],\n",
    "    # 70 Hz, two piezo pieces, 5000 msec\n",
    "     'isolated70_2_5000': [4.769,4.300, np.nan, np.nan, np.nan, np.nan],\n",
    "     'piezo70_2_5000': [4.426,4.620, np.nan, np.nan, np.nan, np.nan],\n",
    "    # 70 Hz, two piezo pieces + rubber, 300 msec\n",
    "     'isolated70_2r_300': [4.523,4.075,4.334, np.nan, np.nan, np.nan],\n",
    "     'piezo70_2r_300': [4.412,4.508,4.346, np.nan, np.nan, np.nan],\n",
    "    # 70 Hz, two piezo pieces + rubber, 500 msec\n",
    "     'isolated70_2r_500': [3.847,4.284, np.nan, np.nan, np.nan, np.nan],\n",
    "     'piezo70_2r_500': [4.171,3.880, np.nan, np.nan, np.nan, np.nan], \n",
    "    # 70 Hz, two piezo pieces + rubber, 700 msec\n",
    "     'isolated70_2r_700': [4.480,5.042,5.383, np.nan, np.nan, np.nan],\n",
    "     'piezo70_2r_700': [5.900,5.419,4.924, np.nan, np.nan, np.nan],  \n",
    "    # 70 Hz, two piezo pieces + rubber, 800 msec\n",
    "     'isolated70_2r_800': [4.757,4.294,5.384,4.996,5.501, np.nan],\n",
    "     'piezo70_2r_800': [4.510,4.438,4.893,7.979,5.773, np.nan]     \n",
    "    }\n",
    "\n",
    "df = pd.DataFrame(data=d)\n",
    "df.head(10)"
   ]
  },
  {
   "cell_type": "code",
   "execution_count": 32,
   "metadata": {},
   "outputs": [
    {
     "name": "stdout",
     "output_type": "stream",
     "text": [
      "for continued stimulation with 70 Hz, t = -0.6510176314629132 and p = 0.5437643744670104\n",
      "for continued stimulation with 70 Hz in the presence of kin-imbued water, t = -0.5272727272727284 and p = 0.6910949024451758\n",
      "for stimulation with 70 Hz (300 msec interval) with a two-ended piezo, t = -0.1783470416587776 and p = 0.8748806117176366\n",
      "for stimulation with 70 Hz (5000 msec interval) with a two-ended piezo, t = 0.034690799396681266 and p = 0.9779240041418579\n",
      "for stimulation with 70 Hz (300 msec interval) with a two-ended piezo and rubber extension, t = -0.6759513415438768 and p = 0.5687582584700501\n",
      "for stimulation with 70 Hz (500 msec interval) with a two-ended piezo and rubber extension, t = 0.10989010989010935 and p = 0.9303213616722098\n",
      "for stimulation with 70 Hz (700 msec interval) with a two-ended piezo and rubber extension, t = -0.8205820588864406 and p = 0.49812714373933153\n",
      "for stimulation with 70 Hz (800 msec interval) with a two-ended piezo and rubber extension, t = -0.8479234885845506 and p = 0.44423878938795064\n"
     ]
    },
    {
     "data": {
      "text/plain": [
       "(array([False, False, False, False, False, False, False, False]),\n",
       " array([0.977924, 0.977924, 0.977924, 0.977924, 0.977924, 0.977924,\n",
       "        0.977924, 0.977924]),\n",
       " 0.006391150954545011,\n",
       " 0.00625)"
      ]
     },
     "execution_count": 32,
     "metadata": {},
     "output_type": "execute_result"
    }
   ],
   "source": [
    "pvalues = []\n",
    "# 70 Hz, continuous stimulation\n",
    "[t, p] = ttest_rel(df['isolated70cont'].dropna(), df['piezo70cont'].dropna())\n",
    "pvalues.append(p)\n",
    "print('for continued stimulation with 70 Hz, t = ' + str(t) + ' and p = ' + str(p))\n",
    "\n",
    "# 70 Hz, continuous stimulation + kin-imbued water\n",
    "[t, p] = ttest_rel(df['isolated70contKIW'].dropna(), df['piezo70contKIW'].dropna())\n",
    "pvalues.append(p)\n",
    "print('for continued stimulation with 70 Hz in the presence of kin-imbued water, t = ' + str(t) + ' and p = ' + str(p))\n",
    "\n",
    "# 70 Hz, 300 msec stimulation with two-ended piezo\n",
    "[t, p] = ttest_rel(df['isolated70_2_300'].dropna(), df['piezo70_2_300'].dropna())\n",
    "pvalues.append(p)\n",
    "print('for stimulation with 70 Hz (300 msec interval) with a two-ended piezo, t = ' + str(t) + ' and p = ' + str(p))\n",
    "\n",
    "# 70 Hz, 5000 msec stimulation with two-ended piezo\n",
    "[t, p] = ttest_rel(df['isolated70_2_5000'].dropna(), df['piezo70_2_5000'].dropna())\n",
    "pvalues.append(p)\n",
    "print('for stimulation with 70 Hz (5000 msec interval) with a two-ended piezo, t = ' + str(t) + ' and p = ' + str(p))\n",
    "\n",
    "# 70 Hz, 300 msec stimulation with two-ended piezo + rubber\n",
    "[t, p] = ttest_rel(df['isolated70_2r_300'].dropna(), df['piezo70_2r_300'].dropna())\n",
    "pvalues.append(p)\n",
    "print('for stimulation with 70 Hz (300 msec interval) with a two-ended piezo and rubber extension, t = ' + str(t) + ' and p = ' + str(p))\n",
    "\n",
    "# 70 Hz, 500 msec stimulation with two-ended piezo + rubber\n",
    "[t, p] = ttest_rel(df['isolated70_2r_500'].dropna(), df['piezo70_2r_500'].dropna())\n",
    "pvalues.append(p)\n",
    "print('for stimulation with 70 Hz (500 msec interval) with a two-ended piezo and rubber extension, t = ' + str(t) + ' and p = ' + str(p))\n",
    "\n",
    "\n",
    "# 70 Hz, 700 msec stimulation with two-ended piezo + rubber\n",
    "[t, p] = ttest_rel(df['isolated70_2r_700'].dropna(), df['piezo70_2r_700'].dropna())\n",
    "pvalues.append(p)\n",
    "print('for stimulation with 70 Hz (700 msec interval) with a two-ended piezo and rubber extension, t = ' + str(t) + ' and p = ' + str(p))\n",
    "\n",
    "\n",
    "# 70 Hz, 800 msec stimulation with two-ended piezo + rubber\n",
    "[t, p] = ttest_rel(df['isolated70_2r_800'].dropna(), df['piezo70_2r_800'].dropna())\n",
    "pvalues.append(p)\n",
    "print('for stimulation with 70 Hz (800 msec interval) with a two-ended piezo and rubber extension, t = ' + str(t) + ' and p = ' + str(p))\n",
    "\n",
    "\n",
    "# correcting for multiple testing\n",
    "multipletests(pvalues, alpha=0.05, method='fdr_bh', is_sorted=False, returnsorted=False)"
   ]
  },
  {
   "cell_type": "markdown",
   "metadata": {},
   "source": [
    "## Fig. S8 - impact of genotype on *pth2* transcription\n",
    "As most of our experiments were conducted with the same genotype, we validated two of our key experiments with another strain of ours (*mitfa$^{-/-}$*). These were the regular social rescue experiment (social exposure of previously isolated fish for 3 hours) and the visual rescue experiment from fig. 3 c) and d). "
   ]
  },
  {
   "cell_type": "code",
   "execution_count": 50,
   "metadata": {},
   "outputs": [],
   "source": [
    "S6a = {'isolated':[5.491, 7.198, 3.960, 4.200, 5.568, 4.302, 5.828],\n",
    "     'social':[3.932, 4.461, 1.164, 1.516, 3.699, 2.961, 4.516]}\n",
    "\n",
    "S6b = {'visual': [0,0,0,0,0,0,1,1,1,1,1,1,0,0,0,0,0,0,1,1,1,1,1,1],\n",
    "    'physical': [0,0,0,0,0,0,0,0,0,0,0,0,1,1,1,1,1,1,1,1,1,1,1,1],\n",
    "    'value': [5.697, 5.460, 6.254, 6.221, 5.689, 6.025,\n",
    "             5.243, 4.755, 5.597, 6.093, 5.428, 5.818,\n",
    "             3.386, 3.208, 3.914, 4.375, 3.586, 3.586,\n",
    "             3.704, 3.429, 3.436, 4.146, 3.632, 4.335]}\n",
    "\n",
    "S6a = pd.DataFrame(data = S6a)\n",
    "S6b = pd.DataFrame(data = S6b)"
   ]
  },
  {
   "cell_type": "code",
   "execution_count": 52,
   "metadata": {},
   "outputs": [
    {
     "name": "stdout",
     "output_type": "stream",
     "text": [
      "for mitfa-/- fish, there is a difference between socially reared and isolated animals with t = 7.980665396844242 and p = 0.00020621437416382658\n"
     ]
    }
   ],
   "source": [
    "[t, p] = ttest_rel(S6a['isolated'], S6a['social'])\n",
    "print('for mitfa-/- fish, there is a difference between socially reared and isolated animals with t = ' + str(t) + ' and p = ' + str(p))\n"
   ]
  },
  {
   "cell_type": "code",
   "execution_count": 35,
   "metadata": {},
   "outputs": [
    {
     "name": "stdout",
     "output_type": "stream",
     "text": [
      "                    sum_sq    df           F    PR(>F)\n",
      "visual            0.132759   1.0    0.833312  0.372190\n",
      "physical         23.094702   1.0  144.962228  0.000000\n",
      "visual:physical   0.384813   1.0    2.415420  0.135828\n",
      "Residual          3.186306  20.0         NaN       NaN\n"
     ]
    }
   ],
   "source": [
    "formula = 'value ~ visual + physical + visual:physical'\n",
    "model = ols(formula, S6b).fit()\n",
    "aov_table = anova_lm(model, typ=2)\n",
    "print(aov_table.round(8))"
   ]
  }
 ],
 "metadata": {
  "kernelspec": {
   "display_name": "Python 3",
   "language": "python",
   "name": "python3"
  },
  "language_info": {
   "codemirror_mode": {
    "name": "ipython",
    "version": 3
   },
   "file_extension": ".py",
   "mimetype": "text/x-python",
   "name": "python",
   "nbconvert_exporter": "python",
   "pygments_lexer": "ipython3",
   "version": "3.6.8"
  }
 },
 "nbformat": 4,
 "nbformat_minor": 2
}
